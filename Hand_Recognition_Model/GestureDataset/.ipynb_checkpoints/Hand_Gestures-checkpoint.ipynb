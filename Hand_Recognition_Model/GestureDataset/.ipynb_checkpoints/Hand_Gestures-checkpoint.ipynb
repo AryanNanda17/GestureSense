{
 "cells": [
  {
   "cell_type": "code",
   "execution_count": 2,
   "id": "bb2e1dfd-6138-4c86-837a-008104123426",
   "metadata": {},
   "outputs": [],
   "source": [
    "import cv2 as cv\n",
    "import time\n",
    "import os\n",
    "import uuid"
   ]
  },
  {
   "cell_type": "code",
   "execution_count": 3,
   "id": "750bae56-12a2-4cfc-bb67-ba219f9f0dfc",
   "metadata": {},
   "outputs": [],
   "source": [
    "Images_Path = 'Users/Aryan/Documents/Projects/DataSetCollection/GestureDataSet'"
   ]
  },
  {
   "cell_type": "code",
   "execution_count": 4,
   "id": "b02e6e77-58c7-4d31-968e-d968225d081f",
   "metadata": {},
   "outputs": [],
   "source": [
    "labels = ['Practice0', 'practice1']\n",
    "number_of_images_per_gesture = 5"
   ]
  },
  {
   "cell_type": "code",
   "execution_count": 4,
   "id": "c8d953bb-11fa-4a9f-bf51-fe9b13d10430",
   "metadata": {},
   "outputs": [
    {
     "name": "stdout",
     "output_type": "stream",
     "text": [
      "mkdir: GestureDataSetCollectedImagesPractice0: File exists\n"
     ]
    },
    {
     "name": "stderr",
     "output_type": "stream",
     "text": [
      "2023-10-19 21:42:44.694 Python[37826:1668554] WARNING: AVCaptureDeviceTypeExternal is deprecated for Continuity Cameras. Please use AVCaptureDeviceTypeContinuityCamera and add NSCameraUseContinuityCameraDeviceType to your Info.plist.\n"
     ]
    },
    {
     "name": "stdout",
     "output_type": "stream",
     "text": [
      "Collected Images for Practice0\n"
     ]
    },
    {
     "name": "stderr",
     "output_type": "stream",
     "text": [
      "2023-10-19 21:42:53.111 Python[37826:1668554] WARNING: Secure coding is not enabled for restorable state! Enable secure coding by implementing NSApplicationDelegate.applicationSupportsSecureRestorableState: and returning YES.\n"
     ]
    },
    {
     "name": "stdout",
     "output_type": "stream",
     "text": [
      "Collected Images for practice1\n"
     ]
    }
   ],
   "source": [
    "for label in labels:\n",
    "    !mkdir { 'GestureDataSet\\CollectedImages\\\\'+label}\n",
    "    capture = cv.VideoCapture(1)\n",
    "    print('Collected Images for {}'.format(label))\n",
    "    time.sleep(5)\n",
    "    for imgnum in range(number_of_images_per_gesture):\n",
    "        ret,frame = capture.read()\n",
    "        imagename = os.path.join(Images_Path,label,label+'.'+'{}.jpg'.format(str(uuid.uuid1())))\n",
    "        cv.imwrite(imagename,frame)\n",
    "        cv.imshow('frame', frame)\n",
    "        time.sleep(2)\n",
    "        if cv.waitKey(1) & 0xFF == ord('1'):\n",
    "            break\n",
    "    capture.release()"
   ]
  },
  {
   "cell_type": "code",
   "execution_count": null,
   "id": "dc627a02-d826-4ac2-9266-1ef1414386b2",
   "metadata": {},
   "outputs": [],
   "source": []
  }
 ],
 "metadata": {
  "kernelspec": {
   "display_name": "Python 3 (ipykernel)",
   "language": "python",
   "name": "python3"
  },
  "language_info": {
   "codemirror_mode": {
    "name": "ipython",
    "version": 3
   },
   "file_extension": ".py",
   "mimetype": "text/x-python",
   "name": "python",
   "nbconvert_exporter": "python",
   "pygments_lexer": "ipython3",
   "version": "3.11.5"
  }
 },
 "nbformat": 4,
 "nbformat_minor": 5
}
