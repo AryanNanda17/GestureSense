{
  "nbformat": 4,
  "nbformat_minor": 0,
  "metadata": {
    "colab": {
      "provenance": [],
      "gpuType": "T4"
    },
    "kernelspec": {
      "name": "python3",
      "display_name": "Python 3"
    },
    "language_info": {
      "name": "python"
    },
    "accelerator": "GPU"
  },
  "cells": [
    {
      "cell_type": "code",
      "execution_count": 131,
      "metadata": {
        "id": "gwwv4g0keJEJ"
      },
      "outputs": [],
      "source": [
        "# Importing Important libraries\n",
        "import jax\n",
        "# import numpy as np              # For Scientific Computation\n",
        "import matplotlib.pyplot as plt # Visualization Library\n",
        "import jax.numpy as jnp         # For importing jax]\n",
        "from jax import grad, vmap, jit # For importing Transformation functions\n",
        "from jax import random\n",
        "import matplotlib"
      ]
    },
    {
      "cell_type": "code",
      "source": [
        "# Fetching of data\n",
        "from sklearn.datasets import fetch_openml\n",
        "mnist = fetch_openml('mnist_784')"
      ],
      "metadata": {
        "colab": {
          "base_uri": "https://localhost:8080/"
        },
        "id": "-tqEvRFeetgy",
        "outputId": "b3b34024-29ff-48d6-d3fc-b08c17750b40"
      },
      "execution_count": 14,
      "outputs": [
        {
          "output_type": "stream",
          "name": "stderr",
          "text": [
            "/usr/local/lib/python3.10/dist-packages/sklearn/datasets/_openml.py:968: FutureWarning: The default value of `parser` will change from `'liac-arff'` to `'auto'` in 1.4. You can set `parser='auto'` to silence this warning. Therefore, an `ImportError` will be raised from 1.4 if the dataset is dense and pandas is not installed. Note that the pandas parser may return different data types. See the Notes Section in fetch_openml's API doc for details.\n",
            "  warn(\n"
          ]
        }
      ]
    },
    {
      "cell_type": "code",
      "source": [
        "# Retrieving features and labels\n",
        "X = mnist['data']\n",
        "Y = mnist['target']"
      ],
      "metadata": {
        "id": "q0xH5F1Ievhq"
      },
      "execution_count": 15,
      "outputs": []
    },
    {
      "cell_type": "code",
      "source": [
        "# Converting into NumPy array with integer datatype\n",
        "X = jnp.array(X , dtype = 'int32')\n",
        "Y = jnp.array(Y , dtype = 'int32')"
      ],
      "metadata": {
        "id": "nTUnxGFFexbg"
      },
      "execution_count": 16,
      "outputs": []
    },
    {
      "cell_type": "code",
      "source": [
        "# #loading data on gpu\n",
        "if jax.devices(\"gpu\"):\n",
        "    gpu_device = jax.devices(\"gpu\")[0]\n",
        "    X = jax.device_put(X, device = gpu_device)\n",
        "    Y = jax.device_put(Y, device = gpu_device)\n",
        "else:\n",
        "    print(\"No GPU devices found.\")"
      ],
      "metadata": {
        "id": "k98tlFhvDupX"
      },
      "execution_count": 17,
      "outputs": []
    },
    {
      "cell_type": "code",
      "source": [
        "# Reshaping\n",
        "Y = Y.reshape(1,70000)\n",
        "X = X.reshape(70000,-1).T\n",
        "print(X.shape)"
      ],
      "metadata": {
        "colab": {
          "base_uri": "https://localhost:8080/"
        },
        "id": "-I9CqujKezEK",
        "outputId": "ba1fd5e9-6c1b-4837-de34-f5866e0d47e2"
      },
      "execution_count": 18,
      "outputs": [
        {
          "output_type": "stream",
          "name": "stdout",
          "text": [
            "(784, 70000)\n"
          ]
        }
      ]
    },
    {
      "cell_type": "code",
      "source": [
        "# Verifying the shape of image\n",
        "Lets_plot = X[:,60000]\n",
        "Lets_plot_image = Lets_plot.reshape(28,28)\n",
        "print(Lets_plot_image.shape)"
      ],
      "metadata": {
        "colab": {
          "base_uri": "https://localhost:8080/"
        },
        "id": "gi_wPx98ezZt",
        "outputId": "6616ed55-3cc0-4a6c-b045-f199f6ccb304"
      },
      "execution_count": 19,
      "outputs": [
        {
          "output_type": "stream",
          "name": "stdout",
          "text": [
            "(28, 28)\n"
          ]
        }
      ]
    },
    {
      "cell_type": "code",
      "source": [
        "# Plotting any one image to verify the correct fetching of data\n",
        "plt.imshow(Lets_plot_image, cmap = matplotlib.cm.binary, interpolation = \"nearest\")"
      ],
      "metadata": {
        "colab": {
          "base_uri": "https://localhost:8080/",
          "height": 448
        },
        "id": "mlvCKUxBe2Zy",
        "outputId": "c4e094b9-41fd-4671-d36f-ab2bf1861011"
      },
      "execution_count": 20,
      "outputs": [
        {
          "output_type": "execute_result",
          "data": {
            "text/plain": [
              "<matplotlib.image.AxesImage at 0x79b3daa10550>"
            ]
          },
          "metadata": {},
          "execution_count": 20
        },
        {
          "output_type": "display_data",
          "data": {
            "text/plain": [
              "<Figure size 640x480 with 1 Axes>"
            ],
            "image/png": "[encoded data removed]"
          },
          "metadata": {}
        }
      ]
    },
    {
      "cell_type": "code",
      "source": [
        "# Label Corresponding to above image\n",
        "Y[:,60000]"
      ],
      "metadata": {
        "colab": {
          "base_uri": "https://localhost:8080/"
        },
        "id": "LRy6zyfDe3_h",
        "outputId": "f1f3b591-9ade-41ed-94f2-b9685e0b47e0"
      },
      "execution_count": 21,
      "outputs": [
        {
          "output_type": "execute_result",
          "data": {
            "text/plain": [
              "Array([7], dtype=int32)"
            ]
          },
          "metadata": {},
          "execution_count": 21
        }
      ]
    },
    {
      "cell_type": "code",
      "source": [
        "# Pre-Processing of the data\n",
        "X_train = X[:,:60000]\n",
        "X_test  = X[:,60000:]\n",
        "Y_train = Y[:,:60000]\n",
        "Y_test  = Y[:,60000:]\n",
        "X_train = X_train\n",
        "X_test = X_test\n",
        "X_train = X_train / 255\n",
        "X_test = X_test / 255\n",
        "Y_train.size"
      ],
      "metadata": {
        "colab": {
          "base_uri": "https://localhost:8080/"
        },
        "id": "PiW7qa_8e51J",
        "outputId": "8d967684-6153-40b7-c067-fc87cb7067fe"
      },
      "execution_count": 22,
      "outputs": [
        {
          "output_type": "execute_result",
          "data": {
            "text/plain": [
              "60000"
            ]
          },
          "metadata": {},
          "execution_count": 22
        }
      ]
    },
    {
      "cell_type": "code",
      "source": [
        "# Initialization\n",
        "def initialize_parameters():\n",
        "  seed = 0\n",
        "  key = random.PRNGKey(seed)\n",
        "  W1 = random.normal(key,(196,784)) * 0.01\n",
        "  W2 = random.normal(key,(98,196))  * 0.01\n",
        "  W3 = random.normal(key,(49,98))   * 0.01\n",
        "  W4 = random.normal(key,(10,49))   * 0.01\n",
        "  b1 = jnp.zeros((196,1))\n",
        "  b2 = jnp.zeros((98,1))\n",
        "  b3 = jnp.zeros((49,1))\n",
        "  b4 = jnp.zeros((10,1))\n",
        "  parameters = { \"W1\": W1, \"W2\": W2, \"W3\": W3, \"W4\": W4, \"b1\": b1, \"b2\": b2, \"b3\": b3, \"b4\": b4 }\n",
        "  return parameters\n",
        "  # Activations\n",
        "def ReLU(Z):\n",
        "  return jnp.maximum(Z, 0)\n",
        "\n",
        "def SoftMax(Z):\n",
        "  A = jnp.exp(Z) / jnp.sum(jnp.exp(Z), axis = 0, keepdims = True)\n",
        "  return A"
      ],
      "metadata": {
        "id": "Ya2IOetRe7w6"
      },
      "execution_count": 222,
      "outputs": []
    },
    {
      "cell_type": "code",
      "source": [
        "# Forward Propagation\n",
        "def forward_propagation(params, X):\n",
        "  W1 = params[\"W1\"]\n",
        "  W2 = params[\"W2\"]\n",
        "  W3 = params[\"W3\"]\n",
        "  W4 = params[\"W4\"]\n",
        "  b1 = params[\"b1\"]\n",
        "  b2 = params[\"b2\"]\n",
        "  b3 = params[\"b3\"]\n",
        "  b4 = params[\"b4\"]\n",
        "  Z1 = jnp.dot(W1,X) + b1\n",
        "  A1 = ReLU(Z1)\n",
        "  Z2 = jnp.dot(W2,A1) + b2\n",
        "  A2 = ReLU(Z2)\n",
        "  Z3 = jnp.dot(W3,A2) + b3\n",
        "  A3 = ReLU(Z3)\n",
        "  Z4 = jnp.dot(W4,A3) + b4\n",
        "  A4 = SoftMax(Z4)\n",
        "  return A4"
      ],
      "metadata": {
        "id": "Jo-IEjvGe_Xn"
      },
      "execution_count": 223,
      "outputs": []
    },
    {
      "cell_type": "code",
      "source": [
        "def compute_cost(params, X, Y):\n",
        "  m = Y.size\n",
        "  A4 = forward_propagation(params, X)\n",
        "  cost = -1/m * jnp.sum(Y*jnp.log(A4))\n",
        "  return cost"
      ],
      "metadata": {
        "id": "6MYJN-p4fDRe"
      },
      "execution_count": 224,
      "outputs": []
    },
    {
      "cell_type": "code",
      "source": [
        "def one_hot(Y):\n",
        "  encoded_array = jnp.zeros((Y.size, Y.max() + 1), dtype = \"int32\")\n",
        "  # Jax object does not support item assignment. JAX arrays are immutable. Therefore, we use set method\n",
        "  encoded_array = encoded_array.at[jnp.arange(Y.size), Y].set(1)\n",
        "  encoded_array = jnp.transpose(encoded_array)\n",
        "  return encoded_array"
      ],
      "metadata": {
        "id": "kNoXzJIgfHOO"
      },
      "execution_count": 225,
      "outputs": []
    },
    {
      "cell_type": "code",
      "source": [
        "def update_parameters(params, X, Y, learning_rate):\n",
        "  grads = grad(compute_cost)(params, X, one_hot(Y))\n",
        "  return jax.tree_map(\n",
        "      lambda p, g: p - learning_rate*g, params, grads\n",
        "  )"
      ],
      "metadata": {
        "id": "ZYX2M9ElfJ49"
      },
      "execution_count": 226,
      "outputs": []
    },
    {
      "cell_type": "code",
      "source": [
        "\n",
        "def get_predictions(A2):\n",
        "  return jnp.argmax(A2, 0)\n",
        "\n",
        "def get_accuracy(predictions, Y):\n",
        "  print(predictions, Y)\n",
        "  return jnp.sum(predictions == Y)/ Y.size\n",
        "\n",
        "def Gradient_Descent(X, Y, No_Of_Iterations, Learning_Rate):\n",
        "  parameters = initialize_parameters()\n",
        "  costs = []\n",
        "  accuracy = []\n",
        "  for i in range(0, No_Of_Iterations):\n",
        "    A4 = forward_propagation(parameters, X)\n",
        "    cost = compute_cost(parameters, X, one_hot(Y))\n",
        "    parameters = update_parameters(parameters, X, Y, Learning_Rate)\n",
        "    if i% 100 == 0:\n",
        "      print(\"Cost after iteration {}: {}\".format(i, jnp.squeeze(cost)))\n",
        "    if i % 100 == 0 or i == No_Of_Iterations:\n",
        "      print(\"Iterations: \" + str(i))\n",
        "      costs.append(cost)\n",
        "      predictions = get_predictions(A4)\n",
        "      acy = get_accuracy(predictions, Y) * 100\n",
        "      accuracy.append(acy)\n",
        "      print(\"Accuracy  :\" + str(get_accuracy(predictions, Y) * 100) + str(\"%\"))\n",
        "  return parameters, costs, accuracy"
      ],
      "metadata": {
        "id": "hPKyzRTkfMyq"
      },
      "execution_count": 227,
      "outputs": []
    },
    {
      "cell_type": "code",
      "source": [
        "parameters, costs, accuracy = Gradient_Descent(X_train, Y_train, 7000, 0.5)"
      ],
      "metadata": {
        "colab": {
          "base_uri": "https://localhost:8080/"
        },
        "id": "BAltfuFdfNa7",
        "outputId": "754b5616-1941-4b69-bd13-d3b9885b42fe"
      },
      "execution_count": 250,
      "outputs": [
        {
          "output_type": "stream",
          "name": "stdout",
          "text": [
            "Cost after iteration 0: 0.2302585393190384\n",
            "Iterations: 0\n",
            "[4 2 2 ... 5 2 5] [[5 0 4 ... 5 6 8]]\n",
            "[4 2 2 ... 5 2 5] [[5 0 4 ... 5 6 8]]\n",
            "Accuracy  :8.113334%\n",
            "Cost after iteration 100: 0.2301664799451828\n",
            "Iterations: 100\n",
            "[1 1 1 ... 1 1 1] [[5 0 4 ... 5 6 8]]\n",
            "[1 1 1 ... 1 1 1] [[5 0 4 ... 5 6 8]]\n",
            "Accuracy  :11.236667%\n",
            "Cost after iteration 200: 0.2301332801580429\n",
            "Iterations: 200\n",
            "[1 1 1 ... 1 1 1] [[5 0 4 ... 5 6 8]]\n",
            "[1 1 1 ... 1 1 1] [[5 0 4 ... 5 6 8]]\n",
            "Accuracy  :11.236667%\n",
            "Cost after iteration 300: 0.23012122511863708\n",
            "Iterations: 300\n",
            "[1 1 1 ... 1 1 1] [[5 0 4 ... 5 6 8]]\n",
            "[1 1 1 ... 1 1 1] [[5 0 4 ... 5 6 8]]\n",
            "Accuracy  :11.236667%\n",
            "Cost after iteration 400: 0.23011673986911774\n",
            "Iterations: 400\n",
            "[1 1 1 ... 1 1 1] [[5 0 4 ... 5 6 8]]\n",
            "[1 1 1 ... 1 1 1] [[5 0 4 ... 5 6 8]]\n",
            "Accuracy  :11.236667%\n",
            "Cost after iteration 500: 0.23011496663093567\n",
            "Iterations: 500\n",
            "[1 1 1 ... 1 1 1] [[5 0 4 ... 5 6 8]]\n",
            "[1 1 1 ... 1 1 1] [[5 0 4 ... 5 6 8]]\n",
            "Accuracy  :11.236667%\n",
            "Cost after iteration 600: 0.2301141619682312\n",
            "Iterations: 600\n",
            "[1 1 1 ... 1 1 1] [[5 0 4 ... 5 6 8]]\n",
            "[1 1 1 ... 1 1 1] [[5 0 4 ... 5 6 8]]\n",
            "Accuracy  :11.236667%\n",
            "Cost after iteration 700: 0.23011372983455658\n",
            "Iterations: 700\n",
            "[1 1 1 ... 1 1 1] [[5 0 4 ... 5 6 8]]\n",
            "[1 1 1 ... 1 1 1] [[5 0 4 ... 5 6 8]]\n",
            "Accuracy  :11.236667%\n",
            "Cost after iteration 800: 0.23011335730552673\n",
            "Iterations: 800\n",
            "[1 1 1 ... 1 1 1] [[5 0 4 ... 5 6 8]]\n",
            "[1 1 1 ... 1 1 1] [[5 0 4 ... 5 6 8]]\n",
            "Accuracy  :11.236667%\n",
            "Cost after iteration 900: 0.23011304438114166\n",
            "Iterations: 900\n",
            "[1 1 1 ... 1 1 1] [[5 0 4 ... 5 6 8]]\n",
            "[1 1 1 ... 1 1 1] [[5 0 4 ... 5 6 8]]\n",
            "Accuracy  :11.236667%\n",
            "Cost after iteration 1000: 0.2301127016544342\n",
            "Iterations: 1000\n",
            "[1 1 1 ... 1 1 1] [[5 0 4 ... 5 6 8]]\n",
            "[1 1 1 ... 1 1 1] [[5 0 4 ... 5 6 8]]\n",
            "Accuracy  :11.236667%\n",
            "Cost after iteration 1100: 0.23011234402656555\n",
            "Iterations: 1100\n",
            "[1 1 1 ... 1 1 1] [[5 0 4 ... 5 6 8]]\n",
            "[1 1 1 ... 1 1 1] [[5 0 4 ... 5 6 8]]\n",
            "Accuracy  :11.236667%\n",
            "Cost after iteration 1200: 0.2301120012998581\n",
            "Iterations: 1200\n",
            "[1 1 1 ... 1 1 1] [[5 0 4 ... 5 6 8]]\n",
            "[1 1 1 ... 1 1 1] [[5 0 4 ... 5 6 8]]\n",
            "Accuracy  :11.236667%\n",
            "Cost after iteration 1300: 0.23011161386966705\n",
            "Iterations: 1300\n",
            "[1 1 1 ... 1 1 1] [[5 0 4 ... 5 6 8]]\n",
            "[1 1 1 ... 1 1 1] [[5 0 4 ... 5 6 8]]\n",
            "Accuracy  :11.236667%\n",
            "Cost after iteration 1400: 0.23011115193367004\n",
            "Iterations: 1400\n",
            "[1 1 1 ... 1 1 1] [[5 0 4 ... 5 6 8]]\n",
            "[1 1 1 ... 1 1 1] [[5 0 4 ... 5 6 8]]\n",
            "Accuracy  :11.236667%\n",
            "Cost after iteration 1500: 0.23011067509651184\n",
            "Iterations: 1500\n",
            "[1 1 1 ... 1 1 1] [[5 0 4 ... 5 6 8]]\n",
            "[1 1 1 ... 1 1 1] [[5 0 4 ... 5 6 8]]\n",
            "Accuracy  :11.236667%\n",
            "Cost after iteration 1600: 0.23011015355587006\n",
            "Iterations: 1600\n",
            "[1 1 1 ... 1 1 1] [[5 0 4 ... 5 6 8]]\n",
            "[1 1 1 ... 1 1 1] [[5 0 4 ... 5 6 8]]\n",
            "Accuracy  :11.236667%\n",
            "Cost after iteration 1700: 0.2301095575094223\n",
            "Iterations: 1700\n",
            "[1 1 1 ... 1 1 1] [[5 0 4 ... 5 6 8]]\n",
            "[1 1 1 ... 1 1 1] [[5 0 4 ... 5 6 8]]\n",
            "Accuracy  :11.236667%\n",
            "Cost after iteration 1800: 0.2301088571548462\n",
            "Iterations: 1800\n",
            "[1 1 1 ... 1 1 1] [[5 0 4 ... 5 6 8]]\n",
            "[1 1 1 ... 1 1 1] [[5 0 4 ... 5 6 8]]\n",
            "Accuracy  :11.236667%\n",
            "Cost after iteration 1900: 0.2301081269979477\n",
            "Iterations: 1900\n",
            "[1 1 1 ... 1 1 1] [[5 0 4 ... 5 6 8]]\n",
            "[1 1 1 ... 1 1 1] [[5 0 4 ... 5 6 8]]\n",
            "Accuracy  :11.236667%\n",
            "Cost after iteration 2000: 0.23010726273059845\n",
            "Iterations: 2000\n",
            "[1 1 1 ... 1 1 1] [[5 0 4 ... 5 6 8]]\n",
            "[1 1 1 ... 1 1 1] [[5 0 4 ... 5 6 8]]\n",
            "Accuracy  :11.236667%\n",
            "Cost after iteration 2100: 0.23010629415512085\n",
            "Iterations: 2100\n",
            "[1 1 1 ... 1 1 1] [[5 0 4 ... 5 6 8]]\n",
            "[1 1 1 ... 1 1 1] [[5 0 4 ... 5 6 8]]\n",
            "Accuracy  :11.236667%\n",
            "Cost after iteration 2200: 0.23010513186454773\n",
            "Iterations: 2200\n",
            "[1 1 1 ... 1 1 1] [[5 0 4 ... 5 6 8]]\n",
            "[1 1 1 ... 1 1 1] [[5 0 4 ... 5 6 8]]\n",
            "Accuracy  :11.236667%\n",
            "Cost after iteration 2300: 0.23010385036468506\n",
            "Iterations: 2300\n",
            "[1 1 1 ... 1 1 1] [[5 0 4 ... 5 6 8]]\n",
            "[1 1 1 ... 1 1 1] [[5 0 4 ... 5 6 8]]\n",
            "Accuracy  :11.236667%\n",
            "Cost after iteration 2400: 0.23010237514972687\n",
            "Iterations: 2400\n",
            "[1 1 1 ... 1 1 1] [[5 0 4 ... 5 6 8]]\n",
            "[1 1 1 ... 1 1 1] [[5 0 4 ... 5 6 8]]\n",
            "Accuracy  :11.236667%\n",
            "Cost after iteration 2500: 0.23010067641735077\n",
            "Iterations: 2500\n",
            "[1 1 1 ... 1 1 1] [[5 0 4 ... 5 6 8]]\n",
            "[1 1 1 ... 1 1 1] [[5 0 4 ... 5 6 8]]\n",
            "Accuracy  :11.236667%\n",
            "Cost after iteration 2600: 0.230098694562912\n",
            "Iterations: 2600\n",
            "[1 1 1 ... 1 1 1] [[5 0 4 ... 5 6 8]]\n",
            "[1 1 1 ... 1 1 1] [[5 0 4 ... 5 6 8]]\n",
            "Accuracy  :11.236667%\n",
            "Cost after iteration 2700: 0.23009638488292694\n",
            "Iterations: 2700\n",
            "[1 1 1 ... 1 1 1] [[5 0 4 ... 5 6 8]]\n",
            "[1 1 1 ... 1 1 1] [[5 0 4 ... 5 6 8]]\n",
            "Accuracy  :11.236667%\n",
            "Cost after iteration 2800: 0.23009361326694489\n",
            "Iterations: 2800\n",
            "[1 1 1 ... 1 1 1] [[5 0 4 ... 5 6 8]]\n",
            "[1 1 1 ... 1 1 1] [[5 0 4 ... 5 6 8]]\n",
            "Accuracy  :11.236667%\n",
            "Cost after iteration 2900: 0.23009026050567627\n",
            "Iterations: 2900\n",
            "[1 1 1 ... 1 1 1] [[5 0 4 ... 5 6 8]]\n",
            "[1 1 1 ... 1 1 1] [[5 0 4 ... 5 6 8]]\n",
            "Accuracy  :11.236667%\n",
            "Cost after iteration 3000: 0.23008617758750916\n",
            "Iterations: 3000\n",
            "[1 1 1 ... 1 1 1] [[5 0 4 ... 5 6 8]]\n",
            "[1 1 1 ... 1 1 1] [[5 0 4 ... 5 6 8]]\n",
            "Accuracy  :11.236667%\n",
            "Cost after iteration 3100: 0.23008103668689728\n",
            "Iterations: 3100\n",
            "[1 1 1 ... 1 1 1] [[5 0 4 ... 5 6 8]]\n",
            "[1 1 1 ... 1 1 1] [[5 0 4 ... 5 6 8]]\n",
            "Accuracy  :11.236667%\n",
            "Cost after iteration 3200: 0.23007452487945557\n",
            "Iterations: 3200\n",
            "[1 1 1 ... 1 1 1] [[5 0 4 ... 5 6 8]]\n",
            "[1 1 1 ... 1 1 1] [[5 0 4 ... 5 6 8]]\n",
            "Accuracy  :11.236667%\n",
            "Cost after iteration 3300: 0.23006606101989746\n",
            "Iterations: 3300\n",
            "[1 1 1 ... 1 1 1] [[5 0 4 ... 5 6 8]]\n",
            "[1 1 1 ... 1 1 1] [[5 0 4 ... 5 6 8]]\n",
            "Accuracy  :11.236667%\n",
            "Cost after iteration 3400: 0.23005463182926178\n",
            "Iterations: 3400\n",
            "[1 1 1 ... 1 1 1] [[5 0 4 ... 5 6 8]]\n",
            "[1 1 1 ... 1 1 1] [[5 0 4 ... 5 6 8]]\n",
            "Accuracy  :11.236667%\n",
            "Cost after iteration 3500: 0.23003867268562317\n",
            "Iterations: 3500\n",
            "[1 1 1 ... 1 1 1] [[5 0 4 ... 5 6 8]]\n",
            "[1 1 1 ... 1 1 1] [[5 0 4 ... 5 6 8]]\n",
            "Accuracy  :11.236667%\n",
            "Cost after iteration 3600: 0.23001541197299957\n",
            "Iterations: 3600\n",
            "[1 1 1 ... 1 1 1] [[5 0 4 ... 5 6 8]]\n",
            "[1 1 1 ... 1 1 1] [[5 0 4 ... 5 6 8]]\n",
            "Accuracy  :11.236667%\n",
            "Cost after iteration 3700: 0.22997939586639404\n",
            "Iterations: 3700\n",
            "[1 1 1 ... 1 1 1] [[5 0 4 ... 5 6 8]]\n",
            "[1 1 1 ... 1 1 1] [[5 0 4 ... 5 6 8]]\n",
            "Accuracy  :11.236667%\n",
            "Cost after iteration 3800: 0.22991926968097687\n",
            "Iterations: 3800\n",
            "[1 1 1 ... 1 1 1] [[5 0 4 ... 5 6 8]]\n",
            "[1 1 1 ... 1 1 1] [[5 0 4 ... 5 6 8]]\n",
            "Accuracy  :11.236667%\n",
            "Cost after iteration 3900: 0.2298075556755066\n",
            "Iterations: 3900\n",
            "[1 1 1 ... 1 1 1] [[5 0 4 ... 5 6 8]]\n",
            "[1 1 1 ... 1 1 1] [[5 0 4 ... 5 6 8]]\n",
            "Accuracy  :11.236667%\n",
            "Cost after iteration 4000: 0.22956755757331848\n",
            "Iterations: 4000\n",
            "[1 1 1 ... 1 1 1] [[5 0 4 ... 5 6 8]]\n",
            "[1 1 1 ... 1 1 1] [[5 0 4 ... 5 6 8]]\n",
            "Accuracy  :11.236667%\n",
            "Cost after iteration 4100: 0.22890271246433258\n",
            "Iterations: 4100\n",
            "[1 1 1 ... 1 1 1] [[5 0 4 ... 5 6 8]]\n",
            "[1 1 1 ... 1 1 1] [[5 0 4 ... 5 6 8]]\n",
            "Accuracy  :11.57%\n",
            "Cost after iteration 4200: 0.22571705281734467\n",
            "Iterations: 4200\n",
            "[0 0 1 ... 1 0 1] [[5 0 4 ... 5 6 8]]\n",
            "[0 0 1 ... 1 0 1] [[5 0 4 ... 5 6 8]]\n",
            "Accuracy  :20.953333%\n",
            "Cost after iteration 4300: 0.20657393336296082\n",
            "Iterations: 4300\n",
            "[0 0 0 ... 1 0 0] [[5 0 4 ... 5 6 8]]\n",
            "[0 0 0 ... 1 0 0] [[5 0 4 ... 5 6 8]]\n",
            "Accuracy  :21.243334%\n",
            "Cost after iteration 4400: 0.1846192330121994\n",
            "Iterations: 4400\n",
            "[0 0 1 ... 1 0 3] [[5 0 4 ... 5 6 8]]\n",
            "[0 0 1 ... 1 0 3] [[5 0 4 ... 5 6 8]]\n",
            "Accuracy  :25.66%\n",
            "Cost after iteration 4500: 0.16032131016254425\n",
            "Iterations: 4500\n",
            "[3 0 9 ... 8 0 3] [[5 0 4 ... 5 6 8]]\n",
            "[3 0 9 ... 8 0 3] [[5 0 4 ... 5 6 8]]\n",
            "Accuracy  :36.181667%\n",
            "Cost after iteration 4600: 0.149225652217865\n",
            "Iterations: 4600\n",
            "[2 0 9 ... 8 0 2] [[5 0 4 ... 5 6 8]]\n",
            "[2 0 9 ... 8 0 2] [[5 0 4 ... 5 6 8]]\n",
            "Accuracy  :41.748333%\n",
            "Cost after iteration 4700: 0.13757364451885223\n",
            "Iterations: 4700\n",
            "[2 0 7 ... 3 0 2] [[5 0 4 ... 5 6 8]]\n",
            "[2 0 7 ... 3 0 2] [[5 0 4 ... 5 6 8]]\n",
            "Accuracy  :50.245%\n",
            "Cost after iteration 4800: 0.1119171604514122\n",
            "Iterations: 4800\n",
            "[8 0 9 ... 4 0 5] [[5 0 4 ... 5 6 8]]\n",
            "[8 0 9 ... 4 0 5] [[5 0 4 ... 5 6 8]]\n",
            "Accuracy  :57.553333%\n",
            "Cost after iteration 4900: 0.10011864453554153\n",
            "Iterations: 4900\n",
            "[8 0 9 ... 4 0 5] [[5 0 4 ... 5 6 8]]\n",
            "[8 0 9 ... 4 0 5] [[5 0 4 ... 5 6 8]]\n",
            "Accuracy  :63.106667%\n",
            "Cost after iteration 5000: 0.08709229528903961\n",
            "Iterations: 5000\n",
            "[8 0 9 ... 4 0 5] [[5 0 4 ... 5 6 8]]\n",
            "[8 0 9 ... 4 0 5] [[5 0 4 ... 5 6 8]]\n",
            "Accuracy  :69.61167%\n",
            "Cost after iteration 5100: 0.07842694222927094\n",
            "Iterations: 5100\n",
            "[8 0 9 ... 8 6 5] [[5 0 4 ... 5 6 8]]\n",
            "[8 0 9 ... 8 6 5] [[5 0 4 ... 5 6 8]]\n",
            "Accuracy  :73.39833%\n",
            "Cost after iteration 5200: 0.07232949137687683\n",
            "Iterations: 5200\n",
            "[8 0 9 ... 8 6 5] [[5 0 4 ... 5 6 8]]\n",
            "[8 0 9 ... 8 6 5] [[5 0 4 ... 5 6 8]]\n",
            "Accuracy  :75.746666%\n",
            "Cost after iteration 5300: 0.06723643094301224\n",
            "Iterations: 5300\n",
            "[8 0 9 ... 8 6 5] [[5 0 4 ... 5 6 8]]\n",
            "[8 0 9 ... 8 6 5] [[5 0 4 ... 5 6 8]]\n",
            "Accuracy  :77.62333%\n",
            "Cost after iteration 5400: 0.06237339973449707\n",
            "Iterations: 5400\n",
            "[8 0 9 ... 8 6 8] [[5 0 4 ... 5 6 8]]\n",
            "[8 0 9 ... 8 6 8] [[5 0 4 ... 5 6 8]]\n",
            "Accuracy  :79.48334%\n",
            "Cost after iteration 5500: 0.057622455060482025\n",
            "Iterations: 5500\n",
            "[5 0 9 ... 8 6 8] [[5 0 4 ... 5 6 8]]\n",
            "[5 0 9 ... 8 6 8] [[5 0 4 ... 5 6 8]]\n",
            "Accuracy  :81.29833%\n",
            "Cost after iteration 5600: 0.05274820700287819\n",
            "Iterations: 5600\n",
            "[5 0 9 ... 5 6 8] [[5 0 4 ... 5 6 8]]\n",
            "[5 0 9 ... 5 6 8] [[5 0 4 ... 5 6 8]]\n",
            "Accuracy  :83.35834%\n",
            "Cost after iteration 5700: 0.04781584069132805\n",
            "Iterations: 5700\n",
            "[5 0 9 ... 5 6 8] [[5 0 4 ... 5 6 8]]\n",
            "[5 0 9 ... 5 6 8] [[5 0 4 ... 5 6 8]]\n",
            "Accuracy  :85.44334%\n",
            "Cost after iteration 5800: 0.04308491572737694\n",
            "Iterations: 5800\n",
            "[5 0 9 ... 5 6 8] [[5 0 4 ... 5 6 8]]\n",
            "[5 0 9 ... 5 6 8] [[5 0 4 ... 5 6 8]]\n",
            "Accuracy  :87.33666%\n",
            "Cost after iteration 5900: 0.03861982002854347\n",
            "Iterations: 5900\n",
            "[5 0 9 ... 5 6 8] [[5 0 4 ... 5 6 8]]\n",
            "[5 0 9 ... 5 6 8] [[5 0 4 ... 5 6 8]]\n",
            "Accuracy  :88.92834%\n",
            "Cost after iteration 6000: 0.03462233394384384\n",
            "Iterations: 6000\n",
            "[5 0 9 ... 5 6 8] [[5 0 4 ... 5 6 8]]\n",
            "[5 0 9 ... 5 6 8] [[5 0 4 ... 5 6 8]]\n",
            "Accuracy  :90.26667%\n",
            "Cost after iteration 6100: 0.031566888093948364\n",
            "Iterations: 6100\n",
            "[5 0 9 ... 5 6 8] [[5 0 4 ... 5 6 8]]\n",
            "[5 0 9 ... 5 6 8] [[5 0 4 ... 5 6 8]]\n",
            "Accuracy  :91.165%\n",
            "Cost after iteration 6200: 0.029278026893734932\n",
            "Iterations: 6200\n",
            "[5 0 9 ... 5 6 8] [[5 0 4 ... 5 6 8]]\n",
            "[5 0 9 ... 5 6 8] [[5 0 4 ... 5 6 8]]\n",
            "Accuracy  :91.81667%\n",
            "Cost after iteration 6300: 0.027555208653211594\n",
            "Iterations: 6300\n",
            "[5 0 9 ... 5 6 8] [[5 0 4 ... 5 6 8]]\n",
            "[5 0 9 ... 5 6 8] [[5 0 4 ... 5 6 8]]\n",
            "Accuracy  :92.316666%\n",
            "Cost after iteration 6400: 0.025996826589107513\n",
            "Iterations: 6400\n",
            "[5 0 9 ... 5 6 8] [[5 0 4 ... 5 6 8]]\n",
            "[5 0 9 ... 5 6 8] [[5 0 4 ... 5 6 8]]\n",
            "Accuracy  :92.86%\n",
            "Cost after iteration 6500: 0.024751335382461548\n",
            "Iterations: 6500\n",
            "[5 0 9 ... 5 6 8] [[5 0 4 ... 5 6 8]]\n",
            "[5 0 9 ... 5 6 8] [[5 0 4 ... 5 6 8]]\n",
            "Accuracy  :93.15833%\n",
            "Cost after iteration 6600: 0.023532386869192123\n",
            "Iterations: 6600\n",
            "[5 0 4 ... 5 6 8] [[5 0 4 ... 5 6 8]]\n",
            "[5 0 4 ... 5 6 8] [[5 0 4 ... 5 6 8]]\n",
            "Accuracy  :93.505005%\n",
            "Cost after iteration 6700: 0.022468699142336845\n",
            "Iterations: 6700\n",
            "[5 0 4 ... 5 6 8] [[5 0 4 ... 5 6 8]]\n",
            "[5 0 4 ... 5 6 8] [[5 0 4 ... 5 6 8]]\n",
            "Accuracy  :93.87666%\n",
            "Cost after iteration 6800: 0.02168072573840618\n",
            "Iterations: 6800\n",
            "[5 0 4 ... 5 6 8] [[5 0 4 ... 5 6 8]]\n",
            "[5 0 4 ... 5 6 8] [[5 0 4 ... 5 6 8]]\n",
            "Accuracy  :94.083336%\n",
            "Cost after iteration 6900: 0.020883189514279366\n",
            "Iterations: 6900\n",
            "[5 0 4 ... 5 6 8] [[5 0 4 ... 5 6 8]]\n",
            "[5 0 4 ... 5 6 8] [[5 0 4 ... 5 6 8]]\n",
            "Accuracy  :94.3%\n"
          ]
        }
      ]
    },
    {
      "cell_type": "code",
      "source": [
        "A4 = forward_propagation(parameters, X_test)\n",
        "predictions = get_predictions(A4)\n",
        "print(\"Accuracy  :\" + str(get_accuracy(predictions, Y_test)))"
      ],
      "metadata": {
        "colab": {
          "base_uri": "https://localhost:8080/"
        },
        "id": "VAZDkuOmfQrf",
        "outputId": "552e3029-e460-4cd6-8ce2-07b0a9774ddd"
      },
      "execution_count": 251,
      "outputs": [
        {
          "output_type": "stream",
          "name": "stdout",
          "text": [
            "[7 2 1 ... 4 5 6] [[7 2 1 ... 4 5 6]]\n",
            "Accuracy  :0.94150007\n"
          ]
        }
      ]
    },
    {
      "cell_type": "code",
      "source": [
        "def plot_costs(costs, learning_rate):\n",
        "    plt.plot(np.squeeze(costs))\n",
        "    plt.ylabel('cost')\n",
        "    plt.xlabel('iterations (per hundreds)')\n",
        "    plt.title(\"Learning rate =\" + str(learning_rate))\n",
        "    plt.show()"
      ],
      "metadata": {
        "id": "58DHK1SIKvwg"
      },
      "execution_count": 252,
      "outputs": []
    },
    {
      "cell_type": "code",
      "source": [
        "plot_costs(costs, 0.8)"
      ],
      "metadata": {
        "colab": {
          "base_uri": "https://localhost:8080/",
          "height": 472
        },
        "id": "byGG3nGtp2jk",
        "outputId": "9262b072-b2ea-49bc-fc1c-0500b11189ad"
      },
      "execution_count": 253,
      "outputs": [
        {
          "output_type": "display_data",
          "data": {
            "text/plain": [
              "<Figure size 640x480 with 1 Axes>"
            ],
            "image/png": "[encoded data removed]"
          },
          "metadata": {}
        }
      ]
    },
    {
      "cell_type": "code",
      "source": [
        "def plot_accuracy(accuracy, learning_rate):\n",
        "    plt.plot(np.squeeze(costs))\n",
        "    plt.ylabel('Accuracy')\n",
        "    plt.xlabel('iterations (per hundreds)')\n",
        "    plt.title(\"Learning rate =\" + str(learning_rate))\n",
        "    plt.show()"
      ],
      "metadata": {
        "id": "Pnh8Abdsqb8E"
      },
      "execution_count": 254,
      "outputs": []
    },
    {
      "cell_type": "code",
      "source": [
        "plot_accuracy(accuracy, 0.8)"
      ],
      "metadata": {
        "colab": {
          "base_uri": "https://localhost:8080/",
          "height": 472
        },
        "id": "4e6v6uwVsoGR",
        "outputId": "383766eb-700c-4fd2-8419-1fb857f6070c"
      },
      "execution_count": 255,
      "outputs": [
        {
          "output_type": "display_data",
          "data": {
            "text/plain": [
              "<Figure size 640x480 with 1 Axes>"
            ],
            "image/png": "[encoded data removed]"
          },
          "metadata": {}
        }
      ]
    }
  ]
}