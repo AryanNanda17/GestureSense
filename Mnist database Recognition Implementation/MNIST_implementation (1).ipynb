{
  "nbformat": 4,
  "nbformat_minor": 0,
  "metadata": {
    "colab": {
      "provenance": []
    },
    "kernelspec": {
      "name": "python3",
      "display_name": "Python 3"
    },
    "language_info": {
      "name": "python"
    },
    "accelerator": "TPU"
  },
  "cells": [
    {
      "cell_type": "code",
      "source": [
        "# Importing Important libraries\n",
        "import numpy as np # For Scientific Computation\n",
        "import matplotlib\n",
        "import matplotlib.pyplot as plt"
      ],
      "metadata": {
        "id": "Cp8UoOSc--4r"
      },
      "execution_count": 1,
      "outputs": []
    },
    {
      "cell_type": "code",
      "source": [
        "from google.colab import drive\n",
        "drive.mount('/content/drive')"
      ],
      "metadata": {
        "colab": {
          "base_uri": "https://localhost:8080/"
        },
        "id": "h8g7qhB-Kdvn",
        "outputId": "5ed469f6-4391-4637-8419-ff91aa0841d5"
      },
      "execution_count": 2,
      "outputs": [
        {
          "output_type": "stream",
          "name": "stdout",
          "text": [
            "Mounted at /content/drive\n"
          ]
        }
      ]
    },
    {
      "cell_type": "code",
      "execution_count": 3,
      "metadata": {
        "colab": {
          "base_uri": "https://localhost:8080/"
        },
        "id": "i0OYr--39jgn",
        "outputId": "df7ce011-ea36-4012-ff0b-6476d6bff94b"
      },
      "outputs": [
        {
          "output_type": "stream",
          "name": "stderr",
          "text": [
            "/usr/local/lib/python3.10/dist-packages/sklearn/datasets/_openml.py:968: FutureWarning: The default value of `parser` will change from `'liac-arff'` to `'auto'` in 1.4. You can set `parser='auto'` to silence this warning. Therefore, an `ImportError` will be raised from 1.4 if the dataset is dense and pandas is not installed. Note that the pandas parser may return different data types. See the Notes Section in fetch_openml's API doc for details.\n",
            "  warn(\n"
          ]
        }
      ],
      "source": [
        "# Fetching of data\n",
        "from sklearn.datasets import fetch_openml\n",
        "mnist = fetch_openml('mnist_784')"
      ]
    },
    {
      "cell_type": "markdown",
      "source": [],
      "metadata": {
        "id": "HZZ_7gWLKIsW"
      }
    },
    {
      "cell_type": "code",
      "source": [
        "# Retrieving features and labels\n",
        "X = mnist['data']\n",
        "Y = mnist['target']"
      ],
      "metadata": {
        "id": "O2O4XVbA-Ksi"
      },
      "execution_count": 4,
      "outputs": []
    },
    {
      "cell_type": "code",
      "source": [
        "# Converting into NumPy array with integer datatype\n",
        "X = np.array(X , dtype = 'int32')\n",
        "Y = np.array(Y , dtype = 'int32')"
      ],
      "metadata": {
        "id": "ZrBOddZf-dp8"
      },
      "execution_count": 5,
      "outputs": []
    },
    {
      "cell_type": "code",
      "source": [
        "# Reshaping\n",
        "Y = Y.reshape(1,70000)\n",
        "X = X.reshape(70000,-1).T\n",
        "print(X.shape)"
      ],
      "metadata": {
        "id": "RrLpw66v_OYx",
        "colab": {
          "base_uri": "https://localhost:8080/"
        },
        "outputId": "e417f280-a5f0-4f33-f46e-ce520f059751"
      },
      "execution_count": 6,
      "outputs": [
        {
          "output_type": "stream",
          "name": "stdout",
          "text": [
            "(784, 70000)\n"
          ]
        }
      ]
    },
    {
      "cell_type": "code",
      "source": [
        "Lets_plot = X[:,60000]\n",
        "Lets_plot_image = Lets_plot.reshape(28,28)\n",
        "print(Lets_plot_image.shape)"
      ],
      "metadata": {
        "id": "cNzkjXXP_bs1",
        "colab": {
          "base_uri": "https://localhost:8080/"
        },
        "outputId": "c7f2fb70-6c04-4bcb-8110-420b058c3385"
      },
      "execution_count": 7,
      "outputs": [
        {
          "output_type": "stream",
          "name": "stdout",
          "text": [
            "(28, 28)\n"
          ]
        }
      ]
    },
    {
      "cell_type": "code",
      "source": [
        "plt.imshow(Lets_plot_image, cmap = matplotlib.cm.binary, interpolation = \"nearest\")"
      ],
      "metadata": {
        "id": "vztcjzEWEHl8",
        "colab": {
          "base_uri": "https://localhost:8080/",
          "height": 448
        },
        "outputId": "95083f3f-1726-4d3e-e44f-3bec31e81ab0"
      },
      "execution_count": 8,
      "outputs": [
        {
          "output_type": "execute_result",
          "data": {
            "text/plain": [
              "<matplotlib.image.AxesImage at 0x7bb42e07b400>"
            ]
          },
          "metadata": {},
          "execution_count": 8
        },
        {
          "output_type": "display_data",
          "data": {
            "text/plain": [
              "<Figure size 640x480 with 1 Axes>"
            ],
            "image/png": "[encoded data removed]"
          },
          "metadata": {}
        }
      ]
    },
    {
      "cell_type": "code",
      "source": [
        "Y[:,60000]"
      ],
      "metadata": {
        "id": "zlheGs0_Hygg",
        "colab": {
          "base_uri": "https://localhost:8080/"
        },
        "outputId": "1e4d23c8-2fe6-4b11-8ef7-f6441d7e2d24"
      },
      "execution_count": 9,
      "outputs": [
        {
          "output_type": "execute_result",
          "data": {
            "text/plain": [
              "array([7], dtype=int32)"
            ]
          },
          "metadata": {},
          "execution_count": 9
        }
      ]
    },
    {
      "cell_type": "code",
      "source": [
        "X_train = X[:,:60000]\n",
        "X_test  = X[:,60000:]\n",
        "Y_train = Y[:,:60000]\n",
        "Y_test  = Y[:,60000:]\n",
        "X_train = X_train\n",
        "X_test = X_test\n",
        "print(X_train.shape)\n",
        "X_train = X_train / 255\n",
        "X_test = X_test / 255"
      ],
      "metadata": {
        "id": "5V_01X5BP180",
        "colab": {
          "base_uri": "https://localhost:8080/"
        },
        "outputId": "59488858-8575-4cc5-c989-199ccad351c6"
      },
      "execution_count": 10,
      "outputs": [
        {
          "output_type": "stream",
          "name": "stdout",
          "text": [
            "(784, 60000)\n"
          ]
        }
      ]
    },
    {
      "cell_type": "code",
      "source": [
        "def initialize_parameters():\n",
        "  W1 = np.random.randn(16,784) * 0.01\n",
        "  W2 = np.random.randn(10,16)  * 0.01\n",
        "  b1 = np.zeros((16,1))\n",
        "  b2 = np.zeros((10,1))\n",
        "  # parameters = {\n",
        "  #     \"W1\": W1,\n",
        "  #     \"b1\": b1,\n",
        "  #     \"W2\": W2,\n",
        "  #     \"b2\": b2}\n",
        "  return W1, b1, W2, b2\n"
      ],
      "metadata": {
        "id": "kVt7VGS8A3-P"
      },
      "execution_count": 11,
      "outputs": []
    },
    {
      "cell_type": "code",
      "source": [
        "def ReLU(Z):\n",
        "  return np.maximum(Z, 0)\n",
        "\n",
        "def SoftMax(Z2):\n",
        "  A = np.exp(Z2) / np.sum(np.exp(Z2), axis = 0, keepdims = True)\n",
        "  return A\n",
        "\n",
        "def forward_propagation(W1, b1, W2, b2,X):\n",
        "  Z1 = np.dot(W1,X) + b1\n",
        "  A1 = ReLU(Z1)\n",
        "  Z2 = np.dot(W2,A1) + b2\n",
        "  Z2 = np.float128(Z2)\n",
        "  A2 = SoftMax(Z2)\n",
        "  return Z1, A1, Z2, A2\n"
      ],
      "metadata": {
        "id": "J--6Cm8NA363"
      },
      "execution_count": 12,
      "outputs": []
    },
    {
      "cell_type": "code",
      "source": [
        "\n",
        "def compute_cost(A2, Y):\n",
        "  m = Y.size\n",
        "  cost = -1/m * np.sum(np.dot(Y,np.log(A2).T) + np.dot((1-Y),np.log(1-A2).T))\n",
        "  return cost"
      ],
      "metadata": {
        "id": "xLEX4RIKA34B"
      },
      "execution_count": 13,
      "outputs": []
    },
    {
      "cell_type": "code",
      "source": [
        "def one_hot(Y):\n",
        "  encoded_array = np.zeros((Y.size, Y.max() + 1))\n",
        "  encoded_array[np.arange(Y.size), Y] = 1\n",
        "  encoded_array = encoded_array.T\n",
        "  return encoded_array\n",
        "\n",
        "def relu_derivative(Z):\n",
        "  return Z >= 0\n",
        "\n",
        "def backward_propagation(Z1, A1, Z2, A2, W2, X, Y):\n",
        "  m = Y.size\n",
        "  one_hot_Y = one_hot(Y)\n",
        "  dZ2 = A2 - one_hot_Y\n",
        "  dW2 = 1/m * np.dot(dZ2,A1.T)\n",
        "  db2 = 1/m * np.sum(dZ2, axis = 1, keepdims = True)\n",
        "  dZ1 = np.dot(W2.T, dZ2) * relu_derivative(Z1)\n",
        "  dW1 = 1/m * np.dot(dZ1,X.T)\n",
        "  db1 = 1/m * np.sum(dZ1,axis = 1, keepdims = True)\n",
        "  return dW1, db1, dW2, db2\n"
      ],
      "metadata": {
        "id": "RE7tZU_NA307"
      },
      "execution_count": 14,
      "outputs": []
    },
    {
      "cell_type": "code",
      "source": [
        "def update_parameters(W1, b1, W2, b2, dW1, db1, dW2, db2, Learning_rate):\n",
        "  # W1 = parameters[\"W1\"]\n",
        "  # W2 = parameters[\"W2\"]\n",
        "  # b1 = parameters[\"b1\"]\n",
        "  # b2 = parameters[\"b2\"]\n",
        "  W1 = W1 - Learning_rate * dW1\n",
        "  W2 = W2 - Learning_rate * dW2\n",
        "  b1 = b1 - Learning_rate * db1\n",
        "  b2 = b2 - Learning_rate * db2\n",
        "  # parameters[\"W1\"] = W1\n",
        "  # parameters[\"W2\"] = W2\n",
        "  # parameters[\"b1\"] = b1\n",
        "  # parameters[\"b2\"] = b2\n",
        "  return W1, b1, W2, b2"
      ],
      "metadata": {
        "id": "wjzkxcb3aZKb"
      },
      "execution_count": 15,
      "outputs": []
    },
    {
      "cell_type": "code",
      "source": [
        "def get_predictions(A2):\n",
        "  return np.argmax(A2, 0)\n",
        "\n",
        "def get_accuracy(predictions, Y):\n",
        "  print(predictions, Y)\n",
        "  return np.sum(predictions == Y)/ Y.size\n",
        "\n",
        "def Gradient_Descent(X, Y, No_Of_Iterations, Learning_Rate):\n",
        "  W1, b1, W2, b2 = initialize_parameters()\n",
        "\n",
        "  for i in range(0, No_Of_Iterations):\n",
        "    Z1, A1, Z2, A2 = forward_propagation(W1, b1, W2, b2, X)\n",
        "    cost = compute_cost(A2, Y)\n",
        "    dW1, db1, dW2, db2 = backward_propagation(Z1, A1, Z2, A2, W2, X, Y)\n",
        "    W1, b1, W2, b2 = update_parameters(W1, b1, W2, b2, dW1, db1, dW2, db2, Learning_Rate)\n",
        "    if i% 10 == 0:\n",
        "      print(\"Cost after \" + str(i) + \"th Iteration is \" + str(cost))\n",
        "    if i % 10 == 0 or i == No_Of_Iterations:\n",
        "      print(\"Iterations: \" + str(i))\n",
        "      predictions = get_predictions(A2)\n",
        "      print(\"Accuracy  :\" + str(get_accuracy(predictions, Y)))\n",
        "\n",
        "  return W1, b1, W2, b2, cost"
      ],
      "metadata": {
        "id": "KIeEE8r15usA"
      },
      "execution_count": 16,
      "outputs": []
    },
    {
      "cell_type": "code",
      "source": [
        "W1, b1, W2, b2, cost = Gradient_Descent(X_train, Y_train, 500, 0.1)"
      ],
      "metadata": {
        "id": "urqjifhxPObj",
        "colab": {
          "base_uri": "https://localhost:8080/"
        },
        "outputId": "b302b542-9f91-4b41-c623-c202a071825d"
      },
      "execution_count": 17,
      "outputs": [
        {
          "output_type": "stream",
          "name": "stdout",
          "text": [
            "Cost after 0th Iteration is 98.916686037468436014\n",
            "Iterations: 0\n",
            "[3 2 3 ... 3 3 3] [[5 0 4 ... 5 6 8]]\n",
            "Accuracy  :0.05675\n",
            "Cost after 10th Iteration is 98.91735394380567808\n",
            "Iterations: 10\n",
            "[3 1 1 ... 1 1 1] [[5 0 4 ... 5 6 8]]\n",
            "Accuracy  :0.14061666666666667\n",
            "Cost after 20th Iteration is 98.918808133407523576\n",
            "Iterations: 20\n",
            "[6 1 1 ... 1 1 1] [[5 0 4 ... 5 6 8]]\n",
            "Accuracy  :0.17776666666666666\n",
            "Cost after 30th Iteration is 98.92137541644367953\n",
            "Iterations: 30\n",
            "[6 1 1 ... 1 6 1] [[5 0 4 ... 5 6 8]]\n",
            "Accuracy  :0.2669166666666667\n",
            "Cost after 40th Iteration is 98.928713673852889575\n",
            "Iterations: 40\n",
            "[6 6 3 ... 9 6 1] [[5 0 4 ... 5 6 8]]\n",
            "Accuracy  :0.3137333333333333\n",
            "Cost after 50th Iteration is 98.96007650456410244\n",
            "Iterations: 50\n",
            "[6 6 6 ... 9 6 6] [[5 0 4 ... 5 6 8]]\n",
            "Accuracy  :0.2997166666666667\n",
            "Cost after 60th Iteration is 99.097977396772943655\n",
            "Iterations: 60\n",
            "[6 6 6 ... 9 6 6] [[5 0 4 ... 5 6 8]]\n",
            "Accuracy  :0.2769333333333333\n",
            "Cost after 70th Iteration is 99.604841838854195034\n",
            "Iterations: 70\n",
            "[6 0 4 ... 9 6 6] [[5 0 4 ... 5 6 8]]\n",
            "Accuracy  :0.3202\n",
            "Cost after 80th Iteration is 101.065733473687032966\n",
            "Iterations: 80\n",
            "[0 0 4 ... 9 0 6] [[5 0 4 ... 5 6 8]]\n",
            "Accuracy  :0.39265\n",
            "Cost after 90th Iteration is 104.16007124692399082\n",
            "Iterations: 90\n",
            "[0 0 4 ... 9 0 0] [[5 0 4 ... 5 6 8]]\n",
            "Accuracy  :0.5045833333333334\n",
            "Cost after 100th Iteration is 108.86737136717742004\n",
            "Iterations: 100\n",
            "[0 0 4 ... 9 0 8] [[5 0 4 ... 5 6 8]]\n",
            "Accuracy  :0.6140333333333333\n",
            "Cost after 110th Iteration is 115.42318718398995064\n",
            "Iterations: 110\n",
            "[3 0 4 ... 9 0 8] [[5 0 4 ... 5 6 8]]\n",
            "Accuracy  :0.6602166666666667\n",
            "Cost after 120th Iteration is 124.554652627876884345\n",
            "Iterations: 120\n",
            "[3 0 4 ... 8 6 8] [[5 0 4 ... 5 6 8]]\n",
            "Accuracy  :0.6908666666666666\n",
            "Cost after 130th Iteration is 135.62731494512984648\n",
            "Iterations: 130\n",
            "[3 0 4 ... 5 6 8] [[5 0 4 ... 5 6 8]]\n",
            "Accuracy  :0.7198833333333333\n",
            "Cost after 140th Iteration is 147.30120137917124777\n",
            "Iterations: 140\n",
            "[3 0 4 ... 5 6 8] [[5 0 4 ... 5 6 8]]\n",
            "Accuracy  :0.7440166666666667\n",
            "Cost after 150th Iteration is 158.7102235422076131\n",
            "Iterations: 150\n",
            "[3 0 4 ... 5 6 8] [[5 0 4 ... 5 6 8]]\n",
            "Accuracy  :0.7636833333333334\n",
            "Cost after 160th Iteration is 169.48664810660436741\n",
            "Iterations: 160\n",
            "[3 0 4 ... 5 6 8] [[5 0 4 ... 5 6 8]]\n",
            "Accuracy  :0.7806166666666666\n",
            "Cost after 170th Iteration is 179.51083178807581155\n",
            "Iterations: 170\n",
            "[3 0 4 ... 5 6 8] [[5 0 4 ... 5 6 8]]\n",
            "Accuracy  :0.7942333333333333\n",
            "Cost after 180th Iteration is 188.77521093773809885\n",
            "Iterations: 180\n",
            "[3 0 4 ... 5 6 8] [[5 0 4 ... 5 6 8]]\n",
            "Accuracy  :0.8057333333333333\n",
            "Cost after 190th Iteration is 197.32535173652229651\n",
            "Iterations: 190\n",
            "[3 0 4 ... 5 6 8] [[5 0 4 ... 5 6 8]]\n",
            "Accuracy  :0.8155\n",
            "Cost after 200th Iteration is 205.21550316836495335\n",
            "Iterations: 200\n",
            "[3 0 4 ... 5 6 8] [[5 0 4 ... 5 6 8]]\n",
            "Accuracy  :0.8235\n",
            "Cost after 210th Iteration is 212.50958289555644178\n",
            "Iterations: 210\n",
            "[3 0 4 ... 5 6 8] [[5 0 4 ... 5 6 8]]\n",
            "Accuracy  :0.8306833333333333\n",
            "Cost after 220th Iteration is 219.26379044850272146\n",
            "Iterations: 220\n",
            "[3 0 4 ... 5 6 8] [[5 0 4 ... 5 6 8]]\n",
            "Accuracy  :0.8371\n",
            "Cost after 230th Iteration is 225.5311621286876619\n",
            "Iterations: 230\n",
            "[3 0 4 ... 5 6 8] [[5 0 4 ... 5 6 8]]\n",
            "Accuracy  :0.8432333333333333\n",
            "Cost after 240th Iteration is 231.36344727971777917\n",
            "Iterations: 240\n",
            "[3 0 4 ... 5 6 8] [[5 0 4 ... 5 6 8]]\n",
            "Accuracy  :0.8482666666666666\n",
            "Cost after 250th Iteration is 236.80034273881387559\n",
            "Iterations: 250\n",
            "[3 0 4 ... 5 6 8] [[5 0 4 ... 5 6 8]]\n",
            "Accuracy  :0.853\n",
            "Cost after 260th Iteration is 241.88324329566712287\n",
            "Iterations: 260\n",
            "[3 0 4 ... 5 6 8] [[5 0 4 ... 5 6 8]]\n",
            "Accuracy  :0.8573166666666666\n",
            "Cost after 270th Iteration is 246.64119815871517931\n",
            "Iterations: 270\n",
            "[3 0 4 ... 5 6 8] [[5 0 4 ... 5 6 8]]\n",
            "Accuracy  :0.86125\n",
            "Cost after 280th Iteration is 251.10574013615116516\n",
            "Iterations: 280\n",
            "[3 0 4 ... 5 6 8] [[5 0 4 ... 5 6 8]]\n",
            "Accuracy  :0.86475\n",
            "Cost after 290th Iteration is 255.30100480621147846\n",
            "Iterations: 290\n",
            "[3 0 4 ... 5 6 8] [[5 0 4 ... 5 6 8]]\n",
            "Accuracy  :0.8679\n",
            "Cost after 300th Iteration is 259.2473179416992369\n",
            "Iterations: 300\n",
            "[3 0 4 ... 5 6 8] [[5 0 4 ... 5 6 8]]\n",
            "Accuracy  :0.8703333333333333\n",
            "Cost after 310th Iteration is 262.9677464322372528\n",
            "Iterations: 310\n",
            "[3 0 4 ... 5 6 8] [[5 0 4 ... 5 6 8]]\n",
            "Accuracy  :0.8721833333333333\n",
            "Cost after 320th Iteration is 266.47803725140315811\n",
            "Iterations: 320\n",
            "[3 0 4 ... 5 6 8] [[5 0 4 ... 5 6 8]]\n",
            "Accuracy  :0.8742166666666666\n",
            "Cost after 330th Iteration is 269.7955718224226695\n",
            "Iterations: 330\n",
            "[3 0 4 ... 5 6 8] [[5 0 4 ... 5 6 8]]\n",
            "Accuracy  :0.87605\n",
            "Cost after 340th Iteration is 272.93439578060347925\n",
            "Iterations: 340\n",
            "[3 0 4 ... 5 6 8] [[5 0 4 ... 5 6 8]]\n",
            "Accuracy  :0.87795\n",
            "Cost after 350th Iteration is 275.90332154271814435\n",
            "Iterations: 350\n",
            "[3 0 4 ... 5 6 8] [[5 0 4 ... 5 6 8]]\n",
            "Accuracy  :0.8799833333333333\n",
            "Cost after 360th Iteration is 278.71861379263327935\n",
            "Iterations: 360\n",
            "[3 0 4 ... 5 6 8] [[5 0 4 ... 5 6 8]]\n",
            "Accuracy  :0.8811833333333333\n",
            "Cost after 370th Iteration is 281.38829409996966505\n",
            "Iterations: 370\n",
            "[3 0 4 ... 5 6 8] [[5 0 4 ... 5 6 8]]\n",
            "Accuracy  :0.8824666666666666\n",
            "Cost after 380th Iteration is 283.92263216547110755\n",
            "Iterations: 380\n",
            "[3 0 4 ... 5 6 8] [[5 0 4 ... 5 6 8]]\n",
            "Accuracy  :0.8839833333333333\n",
            "Cost after 390th Iteration is 286.33045291483165862\n",
            "Iterations: 390\n",
            "[3 0 4 ... 5 6 8] [[5 0 4 ... 5 6 8]]\n",
            "Accuracy  :0.8854833333333333\n",
            "Cost after 400th Iteration is 288.6204892793068061\n",
            "Iterations: 400\n",
            "[3 0 4 ... 5 6 8] [[5 0 4 ... 5 6 8]]\n",
            "Accuracy  :0.8867166666666667\n",
            "Cost after 410th Iteration is 290.80016234654897175\n",
            "Iterations: 410\n",
            "[3 0 4 ... 5 6 8] [[5 0 4 ... 5 6 8]]\n",
            "Accuracy  :0.88765\n",
            "Cost after 420th Iteration is 292.87740084120323825\n",
            "Iterations: 420\n",
            "[3 0 4 ... 5 6 8] [[5 0 4 ... 5 6 8]]\n",
            "Accuracy  :0.88855\n",
            "Cost after 430th Iteration is 294.85731212461898393\n",
            "Iterations: 430\n",
            "[3 0 4 ... 5 6 8] [[5 0 4 ... 5 6 8]]\n",
            "Accuracy  :0.8893666666666666\n",
            "Cost after 440th Iteration is 296.7456170569911211\n",
            "Iterations: 440\n",
            "[3 0 4 ... 5 6 8] [[5 0 4 ... 5 6 8]]\n",
            "Accuracy  :0.8902166666666667\n",
            "Cost after 450th Iteration is 298.5478551569056276\n",
            "Iterations: 450\n",
            "[3 0 4 ... 5 6 8] [[5 0 4 ... 5 6 8]]\n",
            "Accuracy  :0.8910166666666667\n",
            "Cost after 460th Iteration is 300.2703317852213593\n",
            "Iterations: 460\n",
            "[3 0 4 ... 5 6 8] [[5 0 4 ... 5 6 8]]\n",
            "Accuracy  :0.8919166666666667\n",
            "Cost after 470th Iteration is 301.91770661161656372\n",
            "Iterations: 470\n",
            "[3 0 4 ... 5 6 8] [[5 0 4 ... 5 6 8]]\n",
            "Accuracy  :0.8927166666666667\n",
            "Cost after 480th Iteration is 303.4961476209474699\n",
            "Iterations: 480\n",
            "[3 0 4 ... 5 6 8] [[5 0 4 ... 5 6 8]]\n",
            "Accuracy  :0.8933666666666666\n",
            "Cost after 490th Iteration is 305.00671854950274606\n",
            "Iterations: 490\n",
            "[3 0 4 ... 5 6 8] [[5 0 4 ... 5 6 8]]\n",
            "Accuracy  :0.89425\n"
          ]
        }
      ]
    },
    {
      "cell_type": "code",
      "source": [
        "Z1, A1, Z2, A2 = forward_propagation(W1, b1, W2, b2, X_test)\n",
        "predictions = get_predictions(A2)\n",
        "print(\"Accuracy  :\" + str(get_accuracy(predictions, Y_test)))"
      ],
      "metadata": {
        "id": "DlCBK6YUpU3k",
        "colab": {
          "base_uri": "https://localhost:8080/"
        },
        "outputId": "f98f4d31-e1ae-47b4-82ad-4a38fd6e11e2"
      },
      "execution_count": 18,
      "outputs": [
        {
          "output_type": "stream",
          "name": "stdout",
          "text": [
            "[7 2 1 ... 4 5 6] [[7 2 1 ... 4 5 6]]\n",
            "Accuracy  :0.8964\n"
          ]
        }
      ]
    },
    {
      "cell_type": "code",
      "source": [],
      "metadata": {
        "id": "C3yHzltH_UyK"
      },
      "execution_count": 18,
      "outputs": []
    }
  ]
}