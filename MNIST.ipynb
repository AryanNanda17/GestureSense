{
  "nbformat": 4,
  "nbformat_minor": 0,
  "metadata": {
    "colab": {
      "provenance": [],
      "gpuType": "T4",
      "authorship_tag": "ABX9TyNvYxBam5ov/g3kwI0cDkjm",
      "include_colab_link": true
    },
    "kernelspec": {
      "name": "python3",
      "display_name": "Python 3"
    },
    "language_info": {
      "name": "python"
    },
    "accelerator": "GPU"
  },
  "cells": [
    {
      "cell_type": "markdown",
      "metadata": {
        "id": "view-in-github",
        "colab_type": "text"
      },
      "source": [
        "<a href=\"https://colab.research.google.com/github/AryanNanda17/GestureSense/blob/Mihir/MNIST.ipynb\" target=\"_parent\"><img src=\"https://colab.research.google.com/assets/colab-badge.svg\" alt=\"Open In Colab\"/></a>"
      ]
    },
    {
      "cell_type": "code",
      "execution_count": 3,
      "metadata": {
        "id": "AMi_ySft4JFk",
        "colab": {
          "base_uri": "https://localhost:8080/"
        },
        "outputId": "7c90fe5a-54f7-43ba-95eb-e6a137a5c201"
      },
      "outputs": [
        {
          "output_type": "stream",
          "name": "stdout",
          "text": [
            "[Array([0, 0, 0, 0, 0, 0, 0, 0, 0, 0, 0, 0, 0, 0, 0, 0, 0, 0, 0, 0, 0, 0,\n",
            "       0, 0, 0, 0, 0, 0], dtype=uint8), Array([0, 0, 0, 0, 0, 0, 0, 0, 0, 0, 0, 0, 0, 0, 0, 0, 0, 0, 0, 0, 0, 0,\n",
            "       0, 0, 0, 0, 0, 0], dtype=uint8), Array([0, 0, 0, 0, 0, 0, 0, 0, 0, 0, 0, 0, 0, 0, 0, 0, 0, 0, 0, 0, 0, 0,\n",
            "       0, 0, 0, 0, 0, 0], dtype=uint8), Array([0, 0, 0, 0, 0, 0, 0, 0, 0, 0, 0, 0, 0, 0, 0, 0, 0, 0, 0, 0, 0, 0,\n",
            "       0, 0, 0, 0, 0, 0], dtype=uint8), Array([  0,   0,   0,   0,   0,   0,   0,   0,   0,   0,   0,   0,   0,\n",
            "         0,   0,  51, 159, 253, 159,  50,   0,   0,   0,   0,   0,   0,\n",
            "         0,   0], dtype=uint8), Array([  0,   0,   0,   0,   0,   0,   0,   0,   0,   0,   0,   0,   0,\n",
            "         0,  48, 238, 252, 252, 252, 237,   0,   0,   0,   0,   0,   0,\n",
            "         0,   0], dtype=uint8), Array([  0,   0,   0,   0,   0,   0,   0,   0,   0,   0,   0,   0,   0,\n",
            "        54, 227, 253, 252, 239, 233, 252,  57,   6,   0,   0,   0,   0,\n",
            "         0,   0], dtype=uint8), Array([  0,   0,   0,   0,   0,   0,   0,   0,   0,   0,   0,  10,  60,\n",
            "       224, 252, 253, 252, 202,  84, 252, 253, 122,   0,   0,   0,   0,\n",
            "         0,   0], dtype=uint8), Array([  0,   0,   0,   0,   0,   0,   0,   0,   0,   0,   0, 163, 252,\n",
            "       252, 252, 253, 252, 252,  96, 189, 253, 167,   0,   0,   0,   0,\n",
            "         0,   0], dtype=uint8), Array([  0,   0,   0,   0,   0,   0,   0,   0,   0,   0,  51, 238, 253,\n",
            "       253, 190, 114, 253, 228,  47,  79, 255, 168,   0,   0,   0,   0,\n",
            "         0,   0], dtype=uint8), Array([  0,   0,   0,   0,   0,   0,   0,   0,   0,  48, 238, 252, 252,\n",
            "       179,  12,  75, 121,  21,   0,   0, 253, 243,  50,   0,   0,   0,\n",
            "         0,   0], dtype=uint8), Array([  0,   0,   0,   0,   0,   0,   0,   0,  38, 165, 253, 233, 208,\n",
            "        84,   0,   0,   0,   0,   0,   0, 253, 252, 165,   0,   0,   0,\n",
            "         0,   0], dtype=uint8), Array([  0,   0,   0,   0,   0,   0,   0,   7, 178, 252, 240,  71,  19,\n",
            "        28,   0,   0,   0,   0,   0,   0, 253, 252, 195,   0,   0,   0,\n",
            "         0,   0], dtype=uint8), Array([  0,   0,   0,   0,   0,   0,   0,  57, 252, 252,  63,   0,   0,\n",
            "         0,   0,   0,   0,   0,   0,   0, 253, 252, 195,   0,   0,   0,\n",
            "         0,   0], dtype=uint8), Array([  0,   0,   0,   0,   0,   0,   0, 198, 253, 190,   0,   0,   0,\n",
            "         0,   0,   0,   0,   0,   0,   0, 255, 253, 196,   0,   0,   0,\n",
            "         0,   0], dtype=uint8), Array([  0,   0,   0,   0,   0,   0,  76, 246, 252, 112,   0,   0,   0,\n",
            "         0,   0,   0,   0,   0,   0,   0, 253, 252, 148,   0,   0,   0,\n",
            "         0,   0], dtype=uint8), Array([  0,   0,   0,   0,   0,   0,  85, 252, 230,  25,   0,   0,   0,\n",
            "         0,   0,   0,   0,   0,   7, 135, 253, 186,  12,   0,   0,   0,\n",
            "         0,   0], dtype=uint8), Array([  0,   0,   0,   0,   0,   0,  85, 252, 223,   0,   0,   0,   0,\n",
            "         0,   0,   0,   0,   7, 131, 252, 225,  71,   0,   0,   0,   0,\n",
            "         0,   0], dtype=uint8), Array([  0,   0,   0,   0,   0,   0,  85, 252, 145,   0,   0,   0,   0,\n",
            "         0,   0,   0,  48, 165, 252, 173,   0,   0,   0,   0,   0,   0,\n",
            "         0,   0], dtype=uint8), Array([  0,   0,   0,   0,   0,   0,  86, 253, 225,   0,   0,   0,   0,\n",
            "         0,   0, 114, 238, 253, 162,   0,   0,   0,   0,   0,   0,   0,\n",
            "         0,   0], dtype=uint8), Array([  0,   0,   0,   0,   0,   0,  85, 252, 249, 146,  48,  29,  85,\n",
            "       178, 225, 253, 223, 167,  56,   0,   0,   0,   0,   0,   0,   0,\n",
            "         0,   0], dtype=uint8), Array([  0,   0,   0,   0,   0,   0,  85, 252, 252, 252, 229, 215, 252,\n",
            "       252, 252, 196, 130,   0,   0,   0,   0,   0,   0,   0,   0,   0,\n",
            "         0,   0], dtype=uint8), Array([  0,   0,   0,   0,   0,   0,  28, 199, 252, 252, 253, 252, 252,\n",
            "       233, 145,   0,   0,   0,   0,   0,   0,   0,   0,   0,   0,   0,\n",
            "         0,   0], dtype=uint8), Array([  0,   0,   0,   0,   0,   0,   0,  25, 128, 252, 253, 252, 141,\n",
            "        37,   0,   0,   0,   0,   0,   0,   0,   0,   0,   0,   0,   0,\n",
            "         0,   0], dtype=uint8), Array([0, 0, 0, 0, 0, 0, 0, 0, 0, 0, 0, 0, 0, 0, 0, 0, 0, 0, 0, 0, 0, 0,\n",
            "       0, 0, 0, 0, 0, 0], dtype=uint8), Array([0, 0, 0, 0, 0, 0, 0, 0, 0, 0, 0, 0, 0, 0, 0, 0, 0, 0, 0, 0, 0, 0,\n",
            "       0, 0, 0, 0, 0, 0], dtype=uint8), Array([0, 0, 0, 0, 0, 0, 0, 0, 0, 0, 0, 0, 0, 0, 0, 0, 0, 0, 0, 0, 0, 0,\n",
            "       0, 0, 0, 0, 0, 0], dtype=uint8), Array([0, 0, 0, 0, 0, 0, 0, 0, 0, 0, 0, 0, 0, 0, 0, 0, 0, 0, 0, 0, 0, 0,\n",
            "       0, 0, 0, 0, 0, 0], dtype=uint8)]\n"
          ]
        }
      ],
      "source": [
        "#\n",
        "# This is a sample Notebook to demonstrate how to read \"MNIST Dataset\"\n",
        "#\n",
        "import jax.numpy as np # linear algebra\n",
        "import struct\n",
        "from array import array\n",
        "from os.path  import join\n",
        "\n",
        "#\n",
        "# MNIST Data Loader Class\n",
        "\n",
        "class MnistDataloader(object):\n",
        "    def __init__(self, training_images_filepath,training_labels_filepath,\n",
        "                 test_images_filepath, test_labels_filepath):\n",
        "        self.training_images_filepath = training_images_filepath\n",
        "        self.training_labels_filepath = training_labels_filepath\n",
        "        self.test_images_filepath = test_images_filepath\n",
        "        self.test_labels_filepath = test_labels_filepath\n",
        "\n",
        "    def read_images_labels(self, images_filepath, labels_filepath):\n",
        "        labels = []\n",
        "        with open(labels_filepath, 'rb') as file:\n",
        "            magic, size = struct.unpack(\">II\", file.read(8))\n",
        "            if magic != 2049:\n",
        "                raise ValueError('Magic number mismatch, expected 2049, got {}'.format(magic))\n",
        "            labels = array(\"B\", file.read())\n",
        "\n",
        "        with open(images_filepath, 'rb') as file:\n",
        "            magic, size, rows, cols = struct.unpack(\">IIII\", file.read(16))\n",
        "            if magic != 2051:\n",
        "                raise ValueError('Magic number mismatch, expected 2051, got {}'.format(magic))\n",
        "            image_data = array(\"B\", file.read())\n",
        "        images = []\n",
        "        for i in range(size):\n",
        "            images.append([0] * rows * cols)\n",
        "        for i in range(size):\n",
        "            img = np.array(image_data[i * rows * cols:(i + 1) * rows * cols])\n",
        "            img = img.reshape(28,28)\n",
        "            images[i][:] = img\n",
        "\n",
        "        return images, labels\n",
        "\n",
        "    def load_data(self):\n",
        "        x_train, y_train = self.read_images_labels(self.training_images_filepath, self.training_labels_filepath)\n",
        "        x_test, y_test = self.read_images_labels(self.test_images_filepath, self.test_labels_filepath)\n",
        "        return (x_train, y_train),(x_test, y_test)\n",
        "\n",
        "data = MnistDataloader('/content/train-images.idx3-ubyte','/content/train-labels.idx1-ubyte','/content/t10k-images.idx3-ubyte','/content/t10k-labels.idx1-ubyte')\n",
        "\n",
        "(x_train, y_train), (x_test, y_test) = data.load_data()\n",
        "\n",
        "print(x_train[1])\n",
        "\n",
        "\n"
      ]
    }
  ]
}