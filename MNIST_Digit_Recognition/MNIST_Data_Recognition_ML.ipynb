{
  "nbformat": 4,
  "nbformat_minor": 0,
  "metadata": {
    "colab": {
      "provenance": [],
      "gpuType": "T4"
    },
    "kernelspec": {
      "name": "python3",
      "display_name": "Python 3"
    },
    "language_info": {
      "name": "python"
    },
    "accelerator": "GPU"
  },
  "cells": [
    {
      "cell_type": "code",
      "execution_count": 1,
      "metadata": {
        "colab": {
          "base_uri": "https://localhost:8080/"
        },
        "id": "InwCT8R7UQt7",
        "outputId": "9ad2cb4a-1882-49a6-d2be-6881ddbb27df"
      },
      "outputs": [
        {
          "output_type": "stream",
          "name": "stderr",
          "text": [
            "/usr/local/lib/python3.10/dist-packages/sklearn/datasets/_openml.py:968: FutureWarning: The default value of `parser` will change from `'liac-arff'` to `'auto'` in 1.4. You can set `parser='auto'` to silence this warning. Therefore, an `ImportError` will be raised from 1.4 if the dataset is dense and pandas is not installed. Note that the pandas parser may return different data types. See the Notes Section in fetch_openml's API doc for details.\n",
            "  warn(\n"
          ]
        }
      ],
      "source": [
        "import numpy as np\n",
        "import struct\n",
        "from sklearn.datasets import fetch_openml\n",
        "mnist = fetch_openml('mnist_784')\n",
        "from array import array\n",
        "from os.path  import join\n",
        "import h5py\n",
        "import matplotlib.pyplot as plt\n",
        "from sklearn.metrics import accuracy_score"
      ]
    },
    {
      "cell_type": "code",
      "source": [
        "def initialize_parameters():\n",
        "\n",
        "\n",
        "    W1 = np.random.randn(36,784)*0.01\n",
        "    b1 = np.zeros((36,1))\n",
        "    W2 = np.random.randn(10,36)*0.01\n",
        "    b2 = np.zeros((10,1))\n",
        "\n",
        "    return W1,b1,W2,b2"
      ],
      "metadata": {
        "id": "ICH-Rl36XePy"
      },
      "execution_count": 2,
      "outputs": []
    },
    {
      "cell_type": "code",
      "source": [
        "x,y = mnist['data'],mnist['target']\n",
        "\n",
        "x_train,x_test = x[:60000], x[60000:]\n",
        "y_train,y_test = y[:60000], y[60000:]\n",
        "\n",
        "x_train = np.array(x_train,dtype='int32')\n",
        "x_test = np.array(x_test,dtype = 'int32')\n",
        "y_train = np.array(y_train,dtype = 'int32')\n",
        "y_test = np.array(y_test,dtype='int32')"
      ],
      "metadata": {
        "id": "cNVc3RQ_Ut5m"
      },
      "execution_count": 3,
      "outputs": []
    },
    {
      "cell_type": "code",
      "source": [
        "\n",
        "\n",
        "y_train = y_train.reshape(1,60000)\n",
        "y_test = y_test.reshape(1,10000)\n",
        "x_train = x_train.reshape(60000,-1).T\n",
        "x_test = x_test.reshape(10000,-1).T\n",
        "\n",
        "x_train = x_train/255\n",
        "x_test = x_test/255\n",
        "\n"
      ],
      "metadata": {
        "id": "-2wtfP2uU0mY"
      },
      "execution_count": 4,
      "outputs": []
    },
    {
      "cell_type": "code",
      "source": [
        "def relu(x):\n",
        "  y = np.maximum(0,x)\n",
        "  return y\n",
        "\n",
        "def softmax(x):\n",
        "  y = np.exp(x) / np.sum(np.exp(x), axis = 0, keepdims = True)\n",
        "  return y\n",
        "\n",
        "def forward(W1, b1, W2, b2,X):\n",
        "  Z1 = np.dot(W1,X) + b1\n",
        "  A1 = relu(Z1)\n",
        "  Z2 = np.dot(W2,A1) + b2\n",
        "  A2 = softmax(Z2)\n",
        "  return Z1, A1, Z2, A2\n",
        "\n"
      ],
      "metadata": {
        "id": "JqBRVFH6VC5a"
      },
      "execution_count": 5,
      "outputs": []
    },
    {
      "cell_type": "code",
      "source": [
        "def compute_cost(A2, Y):\n",
        "  m = Y.size\n",
        "  cost = -1/m * np.sum(np.dot(Y,np.log(A2).T) + np.dot((1-Y),np.log(1-A2).T))\n",
        "  return cost"
      ],
      "metadata": {
        "id": "bgzDnLU5V2cb"
      },
      "execution_count": 6,
      "outputs": []
    },
    {
      "cell_type": "code",
      "source": [
        "def relu_backward(z):\n",
        "  return z >= 0\n",
        "\n",
        "def one_hot(Y):\n",
        "  encoded_array = np.zeros((Y.size, Y.max() + 1),dtype = int)\n",
        "  encoded_array[np.arange(Y.size), Y] = 1\n",
        "  encoded_array = encoded_array.T\n",
        "  return encoded_array"
      ],
      "metadata": {
        "id": "pVXH2Zg8U6bE"
      },
      "execution_count": 7,
      "outputs": []
    },
    {
      "cell_type": "code",
      "source": [
        "\n",
        "\n",
        "def backward(Z1, A1, Z2, A2, W2, X, Y):\n",
        "  m = Y.size\n",
        "  one_hot_Y = one_hot(Y)\n",
        "  dZ2 = A2 - one_hot_Y\n",
        "  dW2 = 1/m * np.dot(dZ2,A1.T)\n",
        "  db2 = 1/m * np.sum(dZ2, axis =1, keepdims = True)\n",
        "  dZ1 = np.dot(W2.T, dZ2) * relu_backward(Z1)\n",
        "  dW1 = 1/m * np.dot(dZ1,X.T)\n",
        "  db1 = 1/m * np.sum(dZ1,axis = 1, keepdims = True)\n",
        "  return dW1, db1, dW2, db2\n",
        "\n",
        "\n"
      ],
      "metadata": {
        "id": "OCzEfbwRW0E5"
      },
      "execution_count": 8,
      "outputs": []
    },
    {
      "cell_type": "code",
      "source": [
        "def update_parameters(W1, b1, W2, b2, dW1, db1, dW2, db2, Learning_rate):\n",
        "\n",
        "  W1 = W1 - Learning_rate*dW1\n",
        "  W2 = W2 - Learning_rate*dW2\n",
        "  b1 = b1 - Learning_rate*db1\n",
        "  b2 = b2 - Learning_rate*db2\n",
        "\n",
        "  return W1, b1, W2, b2\n",
        "\n",
        "def get_predictions(A2):\n",
        "  return np.argmax(A2, 0)\n",
        "\n",
        "def get_accuracy(predictions, Y):\n",
        "  print(predictions, Y)\n",
        "  return np.sum(predictions == Y)/ Y.size"
      ],
      "metadata": {
        "id": "CjCkPsVAXLno"
      },
      "execution_count": 9,
      "outputs": []
    },
    {
      "cell_type": "code",
      "source": [
        "def model(X, Y, iterations, learning_Rate):\n",
        "  W1, b1, W2, b2 = initialize_parameters()\n",
        "\n",
        "  for i in range(0, iterations):\n",
        "    costs = []\n",
        "    Z1, A1, Z2, A2 = forward(W1, b1, W2, b2, X)\n",
        "    cost = compute_cost(A2, Y)\n",
        "    dW1, db1, dW2, db2 = backward(Z1, A1, Z2, A2, W2, X, Y)\n",
        "    W1, b1, W2, b2 = update_parameters(W1, b1, W2, b2, dW1, db1, dW2, db2, learning_Rate)\n",
        "    if i%100 == 0:\n",
        "      print(\"Cost after \" + str(i) + \"th Iteration is \" + str(cost))\n",
        "    if i % 100 == 0 or i == iterations:\n",
        "      print(\"Iterations: \" + str(i))\n",
        "      print(\"Accuracy  :\" + str(get_accuracy(get_predictions(A2), Y)))\n",
        "  return cost,W1,b1,W2,b2"
      ],
      "metadata": {
        "id": "mm3kpgv-XUWt"
      },
      "execution_count": 12,
      "outputs": []
    },
    {
      "cell_type": "code",
      "source": [
        "cost,W1,b1,W2,b2 = model(x_train, y_train, 3000, 0.1)\n"
      ],
      "metadata": {
        "colab": {
          "base_uri": "https://localhost:8080/"
        },
        "id": "rWl6RYlmZQCk",
        "outputId": "e51dc8f4-3d9c-428d-a812-47561d2be2ec"
      },
      "execution_count": 13,
      "outputs": [
        {
          "output_type": "stream",
          "name": "stdout",
          "text": [
            "Cost after 0th Iteration is 98.91697024318387\n",
            "Iterations: 0\n",
            "[3 6 3 ... 3 6 3] [[5 0 4 ... 5 6 8]]\n",
            "Accuracy  :0.1219\n",
            "Cost after 100th Iteration is 123.71416017286083\n",
            "Iterations: 100\n",
            "[3 0 4 ... 7 6 8] [[5 0 4 ... 5 6 8]]\n",
            "Accuracy  :0.7050833333333333\n",
            "Cost after 200th Iteration is 218.62763795300742\n",
            "Iterations: 200\n",
            "[3 0 4 ... 5 6 8] [[5 0 4 ... 5 6 8]]\n",
            "Accuracy  :0.8492833333333333\n",
            "Cost after 300th Iteration is 265.534354734101\n",
            "Iterations: 300\n",
            "[3 0 4 ... 5 6 8] [[5 0 4 ... 5 6 8]]\n",
            "Accuracy  :0.8803333333333333\n",
            "Cost after 400th Iteration is 291.18387966497824\n",
            "Iterations: 400\n",
            "[3 0 4 ... 5 6 8] [[5 0 4 ... 5 6 8]]\n",
            "Accuracy  :0.8934666666666666\n",
            "Cost after 500th Iteration is 306.8504176014952\n",
            "Iterations: 500\n",
            "[3 0 4 ... 5 6 8] [[5 0 4 ... 5 6 8]]\n",
            "Accuracy  :0.9002833333333333\n",
            "Cost after 600th Iteration is 317.26802776995436\n",
            "Iterations: 600\n",
            "[3 0 4 ... 5 6 8] [[5 0 4 ... 5 6 8]]\n",
            "Accuracy  :0.9054\n",
            "Cost after 700th Iteration is 324.73080630236683\n",
            "Iterations: 700\n",
            "[5 0 4 ... 5 6 8] [[5 0 4 ... 5 6 8]]\n",
            "Accuracy  :0.9093166666666667\n",
            "Cost after 800th Iteration is 330.4822385014069\n",
            "Iterations: 800\n",
            "[5 0 4 ... 5 6 8] [[5 0 4 ... 5 6 8]]\n",
            "Accuracy  :0.9123\n",
            "Cost after 900th Iteration is 335.1886387949501\n",
            "Iterations: 900\n",
            "[5 0 4 ... 5 6 8] [[5 0 4 ... 5 6 8]]\n",
            "Accuracy  :0.9151166666666667\n",
            "Cost after 1000th Iteration is 339.32977570903165\n",
            "Iterations: 1000\n",
            "[5 0 4 ... 5 6 8] [[5 0 4 ... 5 6 8]]\n",
            "Accuracy  :0.9177833333333333\n",
            "Cost after 1100th Iteration is 343.00154712727084\n",
            "Iterations: 1100\n",
            "[5 0 4 ... 5 6 8] [[5 0 4 ... 5 6 8]]\n",
            "Accuracy  :0.9198\n",
            "Cost after 1200th Iteration is 346.2027573029967\n",
            "Iterations: 1200\n",
            "[5 0 4 ... 5 6 8] [[5 0 4 ... 5 6 8]]\n",
            "Accuracy  :0.9222\n",
            "Cost after 1300th Iteration is 349.26709247059847\n",
            "Iterations: 1300\n",
            "[5 0 4 ... 5 6 8] [[5 0 4 ... 5 6 8]]\n",
            "Accuracy  :0.9242333333333334\n",
            "Cost after 1400th Iteration is 352.19329338760286\n",
            "Iterations: 1400\n",
            "[5 0 4 ... 5 6 8] [[5 0 4 ... 5 6 8]]\n",
            "Accuracy  :0.9260666666666667\n",
            "Cost after 1500th Iteration is 354.83694491030025\n",
            "Iterations: 1500\n",
            "[5 0 4 ... 5 6 8] [[5 0 4 ... 5 6 8]]\n",
            "Accuracy  :0.9277333333333333\n",
            "Cost after 1600th Iteration is 357.41495556320433\n",
            "Iterations: 1600\n",
            "[5 0 4 ... 5 6 8] [[5 0 4 ... 5 6 8]]\n",
            "Accuracy  :0.9295833333333333\n",
            "Cost after 1700th Iteration is 359.91491727403223\n",
            "Iterations: 1700\n",
            "[5 0 4 ... 5 6 8] [[5 0 4 ... 5 6 8]]\n",
            "Accuracy  :0.9311166666666667\n",
            "Cost after 1800th Iteration is 362.2125690352331\n",
            "Iterations: 1800\n",
            "[5 0 4 ... 5 6 8] [[5 0 4 ... 5 6 8]]\n",
            "Accuracy  :0.9327833333333333\n",
            "Cost after 1900th Iteration is 364.47037153943296\n",
            "Iterations: 1900\n",
            "[5 0 4 ... 5 6 8] [[5 0 4 ... 5 6 8]]\n",
            "Accuracy  :0.93425\n",
            "Cost after 2000th Iteration is 366.55370783361457\n",
            "Iterations: 2000\n",
            "[5 0 4 ... 5 6 8] [[5 0 4 ... 5 6 8]]\n",
            "Accuracy  :0.9357166666666666\n",
            "Cost after 2100th Iteration is 368.438665691076\n",
            "Iterations: 2100\n",
            "[5 0 4 ... 5 6 8] [[5 0 4 ... 5 6 8]]\n",
            "Accuracy  :0.9371333333333334\n",
            "Cost after 2200th Iteration is 370.2602296189197\n",
            "Iterations: 2200\n",
            "[5 0 4 ... 5 6 8] [[5 0 4 ... 5 6 8]]\n",
            "Accuracy  :0.9381\n",
            "Cost after 2300th Iteration is 372.1066859343775\n",
            "Iterations: 2300\n",
            "[5 0 4 ... 5 6 8] [[5 0 4 ... 5 6 8]]\n",
            "Accuracy  :0.9393\n",
            "Cost after 2400th Iteration is 373.83435275490586\n",
            "Iterations: 2400\n",
            "[5 0 4 ... 5 6 8] [[5 0 4 ... 5 6 8]]\n",
            "Accuracy  :0.94045\n",
            "Cost after 2500th Iteration is 375.5824830750564\n",
            "Iterations: 2500\n",
            "[5 0 4 ... 5 6 8] [[5 0 4 ... 5 6 8]]\n",
            "Accuracy  :0.9413833333333333\n",
            "Cost after 2600th Iteration is 377.2681992433008\n",
            "Iterations: 2600\n",
            "[5 0 4 ... 5 6 8] [[5 0 4 ... 5 6 8]]\n",
            "Accuracy  :0.9422666666666667\n",
            "Cost after 2700th Iteration is 378.9139872326512\n",
            "Iterations: 2700\n",
            "[5 0 4 ... 5 6 8] [[5 0 4 ... 5 6 8]]\n",
            "Accuracy  :0.9431166666666667\n",
            "Cost after 2800th Iteration is 380.4509445771455\n",
            "Iterations: 2800\n",
            "[5 0 4 ... 5 6 8] [[5 0 4 ... 5 6 8]]\n",
            "Accuracy  :0.9439\n",
            "Cost after 2900th Iteration is 381.9955809091181\n",
            "Iterations: 2900\n",
            "[5 0 4 ... 5 6 8] [[5 0 4 ... 5 6 8]]\n",
            "Accuracy  :0.9448666666666666\n"
          ]
        }
      ]
    },
    {
      "cell_type": "code",
      "source": [
        "Z1, A1, Z2, A2 = forward(W1, b1, W2, b2, x_test)\n",
        "predictions = get_predictions(A2)\n",
        "print(\"Accuracy  :\" + str(get_accuracy(predictions, y_test)))"
      ],
      "metadata": {
        "colab": {
          "base_uri": "https://localhost:8080/"
        },
        "id": "sYPA5CBG-PCN",
        "outputId": "e5c763d7-f570-4616-d11f-30ed0f1d1c2a"
      },
      "execution_count": 14,
      "outputs": [
        {
          "output_type": "stream",
          "name": "stdout",
          "text": [
            "[7 2 1 ... 4 5 6] [[7 2 1 ... 4 5 6]]\n",
            "Accuracy  :0.9433\n"
          ]
        }
      ]
    }
  ]
}