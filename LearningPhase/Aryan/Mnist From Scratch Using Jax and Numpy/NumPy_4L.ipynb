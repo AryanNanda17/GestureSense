{
  "cells": [
    {
      "cell_type": "code",
      "execution_count": 3,
      "metadata": {
        "id": "in6VOdkTzbim"
      },
      "outputs": [],
      "source": [
        "# Importing Important libraries\n",
        "import numpy as np # For Scientific Computation\n",
        "import matplotlib.pyplot as plt # Visualization Library\n",
        "import matplotlib"
      ]
    },
    {
      "cell_type": "code",
      "execution_count": 4,
      "metadata": {
        "colab": {
          "base_uri": "https://localhost:8080/"
        },
        "id": "3gpe4q4S36_d",
        "outputId": "ca696780-0d4a-4c77-fbd9-9047e02f2269"
      },
      "outputs": [
        {
          "output_type": "stream",
          "name": "stderr",
          "text": [
            "/usr/local/lib/python3.10/dist-packages/sklearn/datasets/_openml.py:968: FutureWarning: The default value of `parser` will change from `'liac-arff'` to `'auto'` in 1.4. You can set `parser='auto'` to silence this warning. Therefore, an `ImportError` will be raised from 1.4 if the dataset is dense and pandas is not installed. Note that the pandas parser may return different data types. See the Notes Section in fetch_openml's API doc for details.\n",
            "  warn(\n"
          ]
        }
      ],
      "source": [
        "# Fetching of data\n",
        "from sklearn.datasets import fetch_openml\n",
        "mnist = fetch_openml('mnist_784')"
      ]
    },
    {
      "cell_type": "code",
      "execution_count": 5,
      "metadata": {
        "id": "MZCMJOy839yP"
      },
      "outputs": [],
      "source": [
        "# Retrieving features and labels\n",
        "X = mnist['data']\n",
        "Y = mnist['target']"
      ]
    },
    {
      "cell_type": "code",
      "execution_count": 6,
      "metadata": {
        "id": "LWXC7lQx4BBF"
      },
      "outputs": [],
      "source": [
        "# Converting into NumPy array with integer datatype\n",
        "X = np.array(X , dtype = 'int32')\n",
        "Y = np.array(Y , dtype = 'int32')"
      ]
    },
    {
      "cell_type": "code",
      "execution_count": 7,
      "metadata": {
        "colab": {
          "base_uri": "https://localhost:8080/"
        },
        "id": "Z6zMw7xR4HC9",
        "outputId": "7b421075-0e93-4bfd-c1fb-114c7c7cc8b6"
      },
      "outputs": [
        {
          "output_type": "stream",
          "name": "stdout",
          "text": [
            "(784, 70000)\n"
          ]
        }
      ],
      "source": [
        "# Reshaping\n",
        "Y = Y.reshape(1,70000)\n",
        "X = X.reshape(70000,-1).T\n",
        "print(X.shape)"
      ]
    },
    {
      "cell_type": "code",
      "execution_count": 8,
      "metadata": {
        "colab": {
          "base_uri": "https://localhost:8080/"
        },
        "id": "1HZcVEQZ4SMc",
        "outputId": "562fea75-9b67-42ee-f47e-9613d735683d"
      },
      "outputs": [
        {
          "output_type": "stream",
          "name": "stdout",
          "text": [
            "(28, 28)\n"
          ]
        }
      ],
      "source": [
        "# Verifying the shape of image\n",
        "Lets_plot = X[:,60000]\n",
        "Lets_plot_image = Lets_plot.reshape(28,28)\n",
        "print(Lets_plot_image.shape)"
      ]
    },
    {
      "cell_type": "code",
      "execution_count": 9,
      "metadata": {
        "colab": {
          "base_uri": "https://localhost:8080/",
          "height": 448
        },
        "id": "eDLz_Ptt4Sms",
        "outputId": "c570aa66-306b-4a50-c677-3944459cbe6c"
      },
      "outputs": [
        {
          "output_type": "execute_result",
          "data": {
            "text/plain": [
              "<matplotlib.image.AxesImage at 0x78d6002ca9b0>"
            ]
          },
          "metadata": {},
          "execution_count": 9
        },
        {
          "output_type": "display_data",
          "data": {
            "text/plain": [
              "<Figure size 640x480 with 1 Axes>"
            ],
            "image/png": "[encoded data removed]"
          },
          "metadata": {}
        }
      ],
      "source": [
        "# Plotting any one image to verify the correct fetching of data\n",
        "plt.imshow(Lets_plot_image, cmap = matplotlib.cm.binary, interpolation = \"nearest\")"
      ]
    },
    {
      "cell_type": "code",
      "execution_count": 10,
      "metadata": {
        "colab": {
          "base_uri": "https://localhost:8080/"
        },
        "id": "FBqjRUUl4UdO",
        "outputId": "031e2946-7add-4f01-890d-576fec343f60"
      },
      "outputs": [
        {
          "output_type": "execute_result",
          "data": {
            "text/plain": [
              "array([7], dtype=int32)"
            ]
          },
          "metadata": {},
          "execution_count": 10
        }
      ],
      "source": [
        "# Label Corresponding to above image\n",
        "Y[:,60000]"
      ]
    },
    {
      "cell_type": "code",
      "execution_count": 11,
      "metadata": {
        "colab": {
          "base_uri": "https://localhost:8080/"
        },
        "id": "97d6q1j34WOA",
        "outputId": "c21edcdd-48b3-4944-ff2d-c7764190c6cb"
      },
      "outputs": [
        {
          "output_type": "execute_result",
          "data": {
            "text/plain": [
              "60000"
            ]
          },
          "metadata": {},
          "execution_count": 11
        }
      ],
      "source": [
        "# Pre-Processing of the data\n",
        "X_train = X[:,:60000]\n",
        "X_test  = X[:,60000:]\n",
        "Y_train = Y[:,:60000]\n",
        "Y_test  = Y[:,60000:]\n",
        "X_train = X_train\n",
        "X_test = X_test\n",
        "X_train = X_train / 255\n",
        "X_test = X_test / 255\n",
        "Y_train.size"
      ]
    },
    {
      "cell_type": "code",
      "execution_count": 12,
      "metadata": {
        "id": "Zf16bNWw4XpU"
      },
      "outputs": [],
      "source": [
        "# Initialization\n",
        "def initialize_parameters():\n",
        "  W1 = np.random.randn(100,784) * 0.01\n",
        "  W2 = np.random.randn(50,100)  * 0.01\n",
        "  W3 = np.random.randn(25,50)   * 0.01\n",
        "  W4 = np.random.randn(10,25)   * 0.01\n",
        "  b1 = np.zeros((100,1))\n",
        "  b2 = np.zeros((50,1))\n",
        "  b3 = np.zeros((25,1))\n",
        "  b4 = np.zeros((10,1))\n",
        "  parameters = { \"W1\": W1, \"W2\": W2, \"W3\": W3, \"W4\": W4, \"b1\": b1, \"b2\": b2, \"b3\": b3, \"b4\": b4 }\n",
        "  return parameters"
      ]
    },
    {
      "cell_type": "code",
      "execution_count": 13,
      "metadata": {
        "id": "J03sceFK4ahN"
      },
      "outputs": [],
      "source": [
        "# Activations\n",
        "def ReLU(Z):\n",
        "  return np.maximum(Z, 0)\n",
        "\n",
        "def SoftMax(Z):\n",
        "  A = np.exp(Z) / np.sum(np.exp(Z), axis = 0, keepdims = True)\n",
        "  return A"
      ]
    },
    {
      "cell_type": "code",
      "execution_count": 14,
      "metadata": {
        "id": "WgLYkrIy4_yz"
      },
      "outputs": [],
      "source": [
        "# Forward Propagation\n",
        "def forward_propagation(params, X):\n",
        "  W1 = params[\"W1\"]\n",
        "  W2 = params[\"W2\"]\n",
        "  W3 = params[\"W3\"]\n",
        "  W4 = params[\"W4\"]\n",
        "  b1 = params[\"b1\"]\n",
        "  b2 = params[\"b2\"]\n",
        "  b3 = params[\"b3\"]\n",
        "  b4 = params[\"b4\"]\n",
        "  Z1 = np.dot(W1,X) + b1\n",
        "  A1 = ReLU(Z1)\n",
        "  Z2 = np.dot(W2,A1) + b2\n",
        "  A2 = ReLU(Z2)\n",
        "  Z3 = np.dot(W3,A2) + b3\n",
        "  A3 = ReLU(Z3)\n",
        "  Z4 = np.dot(W4,A3) + b4\n",
        "  A4 = SoftMax(Z4)\n",
        "  return Z1, A1, Z2, A2, Z3, A3, Z4, A4"
      ]
    },
    {
      "cell_type": "code",
      "execution_count": 15,
      "metadata": {
        "id": "m6RSwCPO51AZ"
      },
      "outputs": [],
      "source": [
        "def compute_cost(A4, Y):\n",
        "  m = Y.size\n",
        "  cost = -1/m * np.sum(Y*np.log(A4))\n",
        "  return cost"
      ]
    },
    {
      "cell_type": "code",
      "execution_count": 16,
      "metadata": {
        "id": "e3Tg_Pd452vt"
      },
      "outputs": [],
      "source": [
        "def one_hot(Y):\n",
        "  encoded_array = np.zeros((Y.size, Y.max() + 1))\n",
        "  encoded_array[np.arange(Y.size), Y] = 1\n",
        "  encoded_array = encoded_array.T\n",
        "  return encoded_array\n",
        "\n",
        "def relu_derivative(Z):\n",
        "  return Z >= 0"
      ]
    },
    {
      "cell_type": "code",
      "execution_count": 17,
      "metadata": {
        "id": "9wBA9jWR56FX"
      },
      "outputs": [],
      "source": [
        "# backward Propagation\n",
        "def backward_propagation(Z1, A1, Z2, A2, Z3, A3, Z4, A4, W2, W3, W4, X, Y):\n",
        "  m = Y.size\n",
        "  dZ4 = A4 - one_hot(Y)\n",
        "  dW4 = 1/m * np.dot(dZ4,A3.T)\n",
        "  db4 = 1/m * np.sum(dZ4, axis =1, keepdims = True)\n",
        "  dZ3 = np.dot(W4.T, dZ4) * relu_derivative(Z3)\n",
        "  dW3 = 1/m * np.dot(dZ3,A2.T)\n",
        "  db3 = 1/m * np.sum(dZ3, axis =1, keepdims = True)\n",
        "  dZ2 = np.dot(W3.T, dZ3) * relu_derivative(Z2)\n",
        "  dW2 = 1/m * np.dot(dZ2,A1.T)\n",
        "  db2 = 1/m * np.sum(dZ2, axis = 1, keepdims = True)\n",
        "  dZ1 = np.dot(W2.T, dZ2) * relu_derivative(Z1)\n",
        "  dW1 = 1/m * np.dot(dZ1,X.T)\n",
        "  db1 = 1/m * np.sum(dZ1,axis = 1, keepdims = True)\n",
        "  grads ={ \"dW1\": dW1, \"dW2\": dW2, \"dW3\": dW3, \"dW4\": dW4, \"db1\": db1, \"db2\": db2, \"db3\": db3, \"db4\": db4  }\n",
        "  return grads"
      ]
    },
    {
      "cell_type": "code",
      "execution_count": 18,
      "metadata": {
        "id": "p4XDC6Gx7IKb"
      },
      "outputs": [],
      "source": [
        "def update_parameters(params, grads, Learning_rate):\n",
        "  parameters = params.copy()\n",
        "\n",
        "  L = len(parameters)//2\n",
        "\n",
        "  for l in range(L):\n",
        "      parameters[\"W\" + str(l+1)] = params[\"W\" + str(l+1)] - Learning_rate*grads[\"dW\" + str(l+1)]\n",
        "      parameters[\"b\" + str(l+1)] = params[\"b\" + str(l+1)] - Learning_rate*grads[\"db\" + str(l+1)]\n",
        "\n",
        "  return parameters"
      ]
    },
    {
      "cell_type": "code",
      "execution_count": 19,
      "metadata": {
        "id": "HaRWzPsY7kbq"
      },
      "outputs": [],
      "source": [
        "def get_predictions(A2):\n",
        "  return np.argmax(A2, 0)\n",
        "\n",
        "def get_accuracy(predictions, Y):\n",
        "  print(predictions, Y)\n",
        "  return np.sum(predictions == Y)/ Y.size\n",
        "\n",
        "def Gradient_Descent(X, Y, No_Of_Iterations, Learning_Rate):\n",
        "  parameters = initialize_parameters()\n",
        "\n",
        "  for i in range(0, No_Of_Iterations):\n",
        "    Z1, A1, Z2, A2, Z3, A3, Z4, A4 = forward_propagation(parameters, X)\n",
        "    cost = compute_cost(A4, one_hot(Y))\n",
        "    grads = backward_propagation(Z1, A1, Z2, A2, Z3, A3, Z4, A4, parameters[\"W2\"], parameters[\"W3\"], parameters[\"W4\"], X, Y)\n",
        "    parameters = update_parameters(parameters, grads, Learning_Rate)\n",
        "    if i% 100 == 0:\n",
        "      print(\"Cost after iteration {}: {}\".format(i, np.squeeze(cost)))\n",
        "    if i % 100 == 0 or i == No_Of_Iterations:\n",
        "      print(\"Iterations: \" + str(i))\n",
        "      predictions = get_predictions(A4)\n",
        "      print(\"Accuracy  :\" + str(get_accuracy(predictions, Y)))\n",
        "  return parameters, cost"
      ]
    },
    {
      "cell_type": "code",
      "execution_count": 27,
      "metadata": {
        "colab": {
          "base_uri": "https://localhost:8080/"
        },
        "id": "icXZtpGu7_Fo",
        "outputId": "53a55222-4443-47fa-883a-0d11f4106413"
      },
      "outputs": [
        {
          "output_type": "stream",
          "name": "stdout",
          "text": [
            "Cost after iteration 0: 0.2302585288364261\n",
            "Iterations: 0\n",
            "[6 8 8 ... 9 8 8] [[5 0 4 ... 5 6 8]]\n",
            "Accuracy  :0.11861666666666666\n",
            "Cost after iteration 100: 0.23011515923332554\n",
            "Iterations: 100\n",
            "[1 1 1 ... 1 1 1] [[5 0 4 ... 5 6 8]]\n",
            "Accuracy  :0.11236666666666667\n",
            "Cost after iteration 200: 0.23011455462439276\n",
            "Iterations: 200\n",
            "[1 1 1 ... 1 1 1] [[5 0 4 ... 5 6 8]]\n",
            "Accuracy  :0.11236666666666667\n",
            "Cost after iteration 300: 0.23011355975442002\n",
            "Iterations: 300\n",
            "[1 1 1 ... 1 1 1] [[5 0 4 ... 5 6 8]]\n",
            "Accuracy  :0.11236666666666667\n",
            "Cost after iteration 400: 0.23011151012254133\n",
            "Iterations: 400\n",
            "[1 1 1 ... 1 1 1] [[5 0 4 ... 5 6 8]]\n",
            "Accuracy  :0.11236666666666667\n",
            "Cost after iteration 500: 0.23010548923892357\n",
            "Iterations: 500\n",
            "[1 1 1 ... 1 1 1] [[5 0 4 ... 5 6 8]]\n",
            "Accuracy  :0.11236666666666667\n",
            "Cost after iteration 600: 0.23005901261810785\n",
            "Iterations: 600\n",
            "[1 1 1 ... 1 1 1] [[5 0 4 ... 5 6 8]]\n",
            "Accuracy  :0.11236666666666667\n",
            "Cost after iteration 700: 0.1794356805162143\n",
            "Iterations: 700\n",
            "[3 2 7 ... 1 3 3] [[5 0 4 ... 5 6 8]]\n",
            "Accuracy  :0.2375\n",
            "Cost after iteration 800: 0.1510853495704245\n",
            "Iterations: 800\n",
            "[0 0 4 ... 3 0 3] [[5 0 4 ... 5 6 8]]\n",
            "Accuracy  :0.36723333333333336\n",
            "Cost after iteration 900: 0.09254005667534254\n",
            "Iterations: 900\n",
            "[3 0 4 ... 3 2 3] [[5 0 4 ... 5 6 8]]\n",
            "Accuracy  :0.6641833333333333\n",
            "Cost after iteration 1000: 0.04216357008079952\n",
            "Iterations: 1000\n",
            "[5 0 4 ... 5 6 8] [[5 0 4 ... 5 6 8]]\n",
            "Accuracy  :0.8858166666666667\n",
            "Cost after iteration 1100: 0.20996596488751357\n",
            "Iterations: 1100\n",
            "[7 2 4 ... 7 1 9] [[5 0 4 ... 5 6 8]]\n",
            "Accuracy  :0.5022833333333333\n",
            "Cost after iteration 1200: 0.021283483343624864\n",
            "Iterations: 1200\n",
            "[5 0 4 ... 5 6 8] [[5 0 4 ... 5 6 8]]\n",
            "Accuracy  :0.9443833333333334\n",
            "Cost after iteration 1300: 0.01539539899979698\n",
            "Iterations: 1300\n",
            "[5 0 4 ... 5 6 8] [[5 0 4 ... 5 6 8]]\n",
            "Accuracy  :0.9586166666666667\n",
            "Cost after iteration 1400: 0.011742018523340688\n",
            "Iterations: 1400\n",
            "[5 0 4 ... 5 6 8] [[5 0 4 ... 5 6 8]]\n",
            "Accuracy  :0.9682166666666666\n",
            "Cost after iteration 1500: 0.009968600255605059\n",
            "Iterations: 1500\n",
            "[5 0 4 ... 5 6 8] [[5 0 4 ... 5 6 8]]\n",
            "Accuracy  :0.9723833333333334\n",
            "Cost after iteration 1600: 0.008436853543010926\n",
            "Iterations: 1600\n",
            "[5 0 4 ... 5 6 8] [[5 0 4 ... 5 6 8]]\n",
            "Accuracy  :0.9766\n",
            "Cost after iteration 1700: 0.15166288142038903\n",
            "Iterations: 1700\n",
            "[5 4 9 ... 5 6 8] [[5 0 4 ... 5 6 8]]\n",
            "Accuracy  :0.5098333333333334\n",
            "Cost after iteration 1800: 0.02714632239698042\n",
            "Iterations: 1800\n",
            "[5 0 4 ... 5 6 8] [[5 0 4 ... 5 6 8]]\n",
            "Accuracy  :0.92855\n",
            "Cost after iteration 1900: 0.018347182006640216\n",
            "Iterations: 1900\n",
            "[5 0 4 ... 5 6 8] [[5 0 4 ... 5 6 8]]\n",
            "Accuracy  :0.94985\n"
          ]
        }
      ],
      "source": [
        "parameters, cost = Gradient_Descent(X_train, Y_train, 2000, 0.5)"
      ]
    },
    {
      "cell_type": "code",
      "execution_count": 26,
      "metadata": {
        "colab": {
          "base_uri": "https://localhost:8080/"
        },
        "id": "kOoq-far8DWt",
        "outputId": "4d4db353-f725-4100-c1c6-5ef2bf807964"
      },
      "outputs": [
        {
          "output_type": "stream",
          "name": "stdout",
          "text": [
            "[7 2 1 ... 4 5 6] [[7 2 1 ... 4 5 6]]\n",
            "Accuracy  :0.9179\n"
          ]
        }
      ],
      "source": [
        "Z1, A1, Z2, A2, Z3, A3, Z4, A4 = forward_propagation(parameters, X_test)\n",
        "predictions = get_predictions(A4)\n",
        "print(\"Accuracy  :\" + str(get_accuracy(predictions, Y_test)))"
      ]
    },
    {
      "cell_type": "code",
      "source": [],
      "metadata": {
        "id": "mcY555VVR3R9"
      },
      "execution_count": null,
      "outputs": []
    }
  ],
  "metadata": {
    "colab": {
      "provenance": []
    },
    "kernelspec": {
      "display_name": "Python 3",
      "name": "python3"
    },
    "language_info": {
      "name": "python"
    }
  },
  "nbformat": 4,
  "nbformat_minor": 0
}