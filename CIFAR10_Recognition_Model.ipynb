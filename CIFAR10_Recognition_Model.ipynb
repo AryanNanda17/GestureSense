{
  "nbformat": 4,
  "nbformat_minor": 0,
  "metadata": {
    "colab": {
      "provenance": [],
      "gpuType": "T4",
      "authorship_tag": "ABX9TyPlk9w4klMYD/DgRUvXwEjy"
    },
    "kernelspec": {
      "name": "python3",
      "display_name": "Python 3"
    },
    "language_info": {
      "name": "python"
    },
    "accelerator": "GPU"
  },
  "cells": [
    {
      "cell_type": "code",
      "execution_count": 5,
      "metadata": {
        "colab": {
          "base_uri": "https://localhost:8080/"
        },
        "id": "em6liztz9ISu",
        "outputId": "1b6d8669-a5a0-4cdb-ce21-4bcaf11a2590"
      },
      "outputs": [
        {
          "output_type": "stream",
          "name": "stdout",
          "text": [
            "Epoch 1/10\n",
            "3125/3125 [==============================] - 33s 8ms/step - loss: 1.5879 - accuracy: 0.4508\n",
            "Epoch 2/10\n",
            "3125/3125 [==============================] - 26s 8ms/step - loss: 1.0456 - accuracy: 0.6408\n",
            "Epoch 3/10\n",
            "3125/3125 [==============================] - 26s 8ms/step - loss: 0.8434 - accuracy: 0.7153\n",
            "Epoch 4/10\n",
            "3125/3125 [==============================] - 26s 8ms/step - loss: 0.7053 - accuracy: 0.7661\n",
            "Epoch 5/10\n",
            "3125/3125 [==============================] - 26s 8ms/step - loss: 0.5900 - accuracy: 0.8040\n",
            "Epoch 6/10\n",
            "3125/3125 [==============================] - 27s 9ms/step - loss: 0.4998 - accuracy: 0.8357\n",
            "Epoch 7/10\n",
            "3125/3125 [==============================] - 27s 9ms/step - loss: 0.4211 - accuracy: 0.8607\n",
            "Epoch 8/10\n",
            "3125/3125 [==============================] - 26s 8ms/step - loss: 0.3539 - accuracy: 0.8824\n",
            "Epoch 9/10\n",
            "3125/3125 [==============================] - 26s 8ms/step - loss: 0.2975 - accuracy: 0.9022\n",
            "Epoch 10/10\n",
            "3125/3125 [==============================] - 26s 8ms/step - loss: 0.2504 - accuracy: 0.9177\n",
            "313/313 [==============================] - 2s 5ms/step - loss: 0.5467 - accuracy: 0.8399\n",
            "Test accuracy: 0.839900016784668\n"
          ]
        }
      ],
      "source": [
        "import tensorflow as tf\n",
        "from tensorflow.keras import layers, models\n",
        "from tensorflow.keras.datasets import cifar10\n",
        "from tensorflow.keras.utils import to_categorical\n",
        "\n",
        "\n",
        "(x_train,y_train), (x_test,y_test) = cifar10.load_data()\n",
        "x_train, x_test = x_train / 255.0, x_test / 255.0\n",
        "y_train, y_test = to_categorical(y_train), to_categorical(y_test)\n"
      ]
    },
    {
      "cell_type": "code",
      "source": [
        "model = models.Sequential()\n",
        "\n",
        "\n",
        "model.add(layers.Conv2D(64, (3, 3), activation='relu', padding='same', input_shape=(32, 32, 3)))\n",
        "model.add(layers.BatchNormalization())\n",
        "model.add(layers.Conv2D(64, (3, 3), activation='relu', padding='same'))\n",
        "model.add(layers.BatchNormalization())\n",
        "model.add(layers.MaxPooling2D((2, 2)))\n",
        "\n",
        "model.add(layers.Conv2D(128, (3, 3), activation='relu', padding='same'))\n",
        "model.add(layers.BatchNormalization())\n",
        "model.add(layers.Conv2D(128, (3, 3), activation='relu', padding='same'))\n",
        "model.add(layers.BatchNormalization())\n",
        "model.add(layers.MaxPooling2D((2, 2)))\n",
        "\n",
        "model.add(layers.Conv2D(256, (3, 3), activation='relu', padding='same'))\n",
        "model.add(layers.BatchNormalization())\n",
        "model.add(layers.Conv2D(256, (3, 3), activation='relu', padding='same'))\n",
        "model.add(layers.BatchNormalization())\n",
        "model.add(layers.MaxPooling2D((2, 2)))\n",
        "\n",
        "\n",
        "model.add(layers.Flatten())\n",
        "model.add(layers.Dense(512, activation='relu'))\n",
        "model.add(layers.BatchNormalization())\n",
        "model.add(layers.Dropout(0.5))\n",
        "model.add(layers.Dense(128, activation='relu'))\n",
        "model.add(layers.BatchNormalization())\n",
        "model.add(layers.Dropout(0.5))\n",
        "\n",
        "model.add(layers.Dense(10, activation='softmax'))"
      ],
      "metadata": {
        "id": "JOyHctsEDWhC"
      },
      "execution_count": null,
      "outputs": []
    },
    {
      "cell_type": "code",
      "source": [
        "model.compile(optimizer='adam',\n",
        "              loss='categorical_crossentropy',\n",
        "              metrics=['accuracy'])\n",
        "\n",
        "model.fit(x_train, y_train, epochs=10, batch_size=16)\n"
      ],
      "metadata": {
        "id": "b87Hv7zaDWy8"
      },
      "execution_count": null,
      "outputs": []
    },
    {
      "cell_type": "code",
      "source": [
        "test_loss, test_acc = model.evaluate(x_test, y_test)\n",
        "print(f'Test accuracy: {test_acc}')\n"
      ],
      "metadata": {
        "id": "3YjPMuZFDW2Q"
      },
      "execution_count": null,
      "outputs": []
    }
  ]
}